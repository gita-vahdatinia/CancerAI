{
 "cells": [
  {
   "cell_type": "code",
   "execution_count": 1,
   "metadata": {},
   "outputs": [
    {
     "name": "stderr",
     "output_type": "stream",
     "text": [
      "Using TensorFlow backend.\n"
     ]
    },
    {
     "name": "stdout",
     "output_type": "stream",
     "text": [
      "stage1_solution_filtered.csv\n",
      "stage_2_private_solution.csv\n",
      "stage2_sample_submission.csv\n",
      "stage2_test_text.csv\n",
      "stage2_test_variants.csv\n",
      "test_text\n",
      "test_variants\n",
      "training_text\n",
      "training_variants\n",
      "\n"
     ]
    }
   ],
   "source": [
    "import numpy as np # linear algebra\n",
    "import pandas as pd # data processing, CSV file I/O (e.g. pd.read_csv)\n",
    "import matplotlib.pyplot as plt\n",
    "import seaborn as sns;  #makes graph colors pretty\n",
    "from gensim.summarization import keywords\n",
    "from __future__ import print_function\n",
    "import os\n",
    "import re\n",
    "import string\n",
    "import pandas as pd\n",
    "import numpy as np\n",
    "import keras\n",
    "sns.set()\n",
    "sns.palplot(sns.color_palette(\"muted\"))\n",
    "\n",
    "\n",
    "%matplotlib inline\n",
    "\n",
    "pd.options.mode.chained_assignment = None\n",
    "pd.options.display.max_columns = 999\n",
    "\n",
    "# Input data files are available in the \"../input/\" directory.\n",
    "# For example, running this (by clicking run or pressing Shift+Enter) will list the files in the input directory\n",
    "\n",
    "from subprocess import check_output\n",
    "print(check_output([\"ls\", \"../input\"]).decode(\"utf8\"))"
   ]
  },
  {
   "cell_type": "code",
   "execution_count": 2,
   "metadata": {},
   "outputs": [
    {
     "name": "stdout",
     "output_type": "stream",
     "text": [
      "Train and Test variants shape :  (3321, 4) (986, 3)\n",
      "Train and Test text shape :  (3321, 2) (986, 2)\n"
     ]
    }
   ],
   "source": [
    "train_var_df = pd.read_csv(\"../input/training_variants\")\n",
    "test_var_df = pd.read_csv(\"../input/stage2_test_variants.csv\")\n",
    "train_text_df = pd.read_csv(\"../input/training_text\", sep=\"\\|\\|\", engine='python', header=None, skiprows=1, names=[\"ID\",\"Text\"])\n",
    "test_text_df = pd.read_csv(\"../input/stage2_test_text.csv\", sep=\"\\|\\|\", engine='python', header=None, skiprows=1, names=[\"ID\",\"Text\"])\n",
    "#dataframe.shape returns a tuple representing dimensionality\n",
    "print(\"Train and Test variants shape : \",train_var_df.shape, test_var_df.shape)\n",
    "print(\"Train and Test text shape : \",train_text_df.shape, test_text_df.shape)"
   ]
  },
  {
   "cell_type": "code",
   "execution_count": 3,
   "metadata": {},
   "outputs": [
    {
     "data": {
      "text/html": [
       "<div>\n",
       "<style scoped>\n",
       "    .dataframe tbody tr th:only-of-type {\n",
       "        vertical-align: middle;\n",
       "    }\n",
       "\n",
       "    .dataframe tbody tr th {\n",
       "        vertical-align: top;\n",
       "    }\n",
       "\n",
       "    .dataframe thead th {\n",
       "        text-align: right;\n",
       "    }\n",
       "</style>\n",
       "<table border=\"1\" class=\"dataframe\">\n",
       "  <thead>\n",
       "    <tr style=\"text-align: right;\">\n",
       "      <th></th>\n",
       "      <th>ID</th>\n",
       "      <th>Gene</th>\n",
       "      <th>Variation</th>\n",
       "      <th>Class</th>\n",
       "    </tr>\n",
       "  </thead>\n",
       "  <tbody>\n",
       "    <tr>\n",
       "      <th>0</th>\n",
       "      <td>0</td>\n",
       "      <td>FAM58A</td>\n",
       "      <td>Truncating Mutations</td>\n",
       "      <td>1</td>\n",
       "    </tr>\n",
       "    <tr>\n",
       "      <th>1</th>\n",
       "      <td>1</td>\n",
       "      <td>CBL</td>\n",
       "      <td>W802*</td>\n",
       "      <td>2</td>\n",
       "    </tr>\n",
       "    <tr>\n",
       "      <th>2</th>\n",
       "      <td>2</td>\n",
       "      <td>CBL</td>\n",
       "      <td>Q249E</td>\n",
       "      <td>2</td>\n",
       "    </tr>\n",
       "    <tr>\n",
       "      <th>3</th>\n",
       "      <td>3</td>\n",
       "      <td>CBL</td>\n",
       "      <td>N454D</td>\n",
       "      <td>3</td>\n",
       "    </tr>\n",
       "    <tr>\n",
       "      <th>4</th>\n",
       "      <td>4</td>\n",
       "      <td>CBL</td>\n",
       "      <td>L399V</td>\n",
       "      <td>4</td>\n",
       "    </tr>\n",
       "  </tbody>\n",
       "</table>\n",
       "</div>"
      ],
      "text/plain": [
       "   ID    Gene             Variation  Class\n",
       "0   0  FAM58A  Truncating Mutations      1\n",
       "1   1     CBL                 W802*      2\n",
       "2   2     CBL                 Q249E      2\n",
       "3   3     CBL                 N454D      3\n",
       "4   4     CBL                 L399V      4"
      ]
     },
     "execution_count": 3,
     "metadata": {},
     "output_type": "execute_result"
    }
   ],
   "source": [
    "#dataframe.head returns first 5 rows\n",
    "#training variants\n",
    "train_var_df.head()"
   ]
  },
  {
   "cell_type": "code",
   "execution_count": 4,
   "metadata": {
    "scrolled": true
   },
   "outputs": [
    {
     "data": {
      "text/html": [
       "<div>\n",
       "<style scoped>\n",
       "    .dataframe tbody tr th:only-of-type {\n",
       "        vertical-align: middle;\n",
       "    }\n",
       "\n",
       "    .dataframe tbody tr th {\n",
       "        vertical-align: top;\n",
       "    }\n",
       "\n",
       "    .dataframe thead th {\n",
       "        text-align: right;\n",
       "    }\n",
       "</style>\n",
       "<table border=\"1\" class=\"dataframe\">\n",
       "  <thead>\n",
       "    <tr style=\"text-align: right;\">\n",
       "      <th></th>\n",
       "      <th>ID</th>\n",
       "      <th>Text</th>\n",
       "    </tr>\n",
       "  </thead>\n",
       "  <tbody>\n",
       "    <tr>\n",
       "      <th>0</th>\n",
       "      <td>0</td>\n",
       "      <td>Cyclin-dependent kinases (CDKs) regulate a var...</td>\n",
       "    </tr>\n",
       "    <tr>\n",
       "      <th>1</th>\n",
       "      <td>1</td>\n",
       "      <td>Abstract Background  Non-small cell lung canc...</td>\n",
       "    </tr>\n",
       "    <tr>\n",
       "      <th>2</th>\n",
       "      <td>2</td>\n",
       "      <td>Abstract Background  Non-small cell lung canc...</td>\n",
       "    </tr>\n",
       "    <tr>\n",
       "      <th>3</th>\n",
       "      <td>3</td>\n",
       "      <td>Recent evidence has demonstrated that acquired...</td>\n",
       "    </tr>\n",
       "    <tr>\n",
       "      <th>4</th>\n",
       "      <td>4</td>\n",
       "      <td>Oncogenic mutations in the monomeric Casitas B...</td>\n",
       "    </tr>\n",
       "  </tbody>\n",
       "</table>\n",
       "</div>"
      ],
      "text/plain": [
       "   ID                                               Text\n",
       "0   0  Cyclin-dependent kinases (CDKs) regulate a var...\n",
       "1   1   Abstract Background  Non-small cell lung canc...\n",
       "2   2   Abstract Background  Non-small cell lung canc...\n",
       "3   3  Recent evidence has demonstrated that acquired...\n",
       "4   4  Oncogenic mutations in the monomeric Casitas B..."
      ]
     },
     "execution_count": 4,
     "metadata": {},
     "output_type": "execute_result"
    }
   ],
   "source": [
    "#returns first 5 rows of training text\n",
    "train_text_df.head()"
   ]
  },
  {
   "cell_type": "code",
   "execution_count": 5,
   "metadata": {},
   "outputs": [
    {
     "data": {
      "text/html": [
       "<div>\n",
       "<style scoped>\n",
       "    .dataframe tbody tr th:only-of-type {\n",
       "        vertical-align: middle;\n",
       "    }\n",
       "\n",
       "    .dataframe tbody tr th {\n",
       "        vertical-align: top;\n",
       "    }\n",
       "\n",
       "    .dataframe thead th {\n",
       "        text-align: right;\n",
       "    }\n",
       "</style>\n",
       "<table border=\"1\" class=\"dataframe\">\n",
       "  <thead>\n",
       "    <tr style=\"text-align: right;\">\n",
       "      <th></th>\n",
       "      <th>ID</th>\n",
       "      <th>Gene</th>\n",
       "      <th>Variation</th>\n",
       "      <th>Class</th>\n",
       "      <th>Text</th>\n",
       "    </tr>\n",
       "  </thead>\n",
       "  <tbody>\n",
       "    <tr>\n",
       "      <th>0</th>\n",
       "      <td>0</td>\n",
       "      <td>FAM58A</td>\n",
       "      <td>Truncating Mutations</td>\n",
       "      <td>1</td>\n",
       "      <td>Cyclin-dependent kinases (CDKs) regulate a var...</td>\n",
       "    </tr>\n",
       "    <tr>\n",
       "      <th>1</th>\n",
       "      <td>1</td>\n",
       "      <td>CBL</td>\n",
       "      <td>W802*</td>\n",
       "      <td>2</td>\n",
       "      <td>Abstract Background  Non-small cell lung canc...</td>\n",
       "    </tr>\n",
       "    <tr>\n",
       "      <th>2</th>\n",
       "      <td>2</td>\n",
       "      <td>CBL</td>\n",
       "      <td>Q249E</td>\n",
       "      <td>2</td>\n",
       "      <td>Abstract Background  Non-small cell lung canc...</td>\n",
       "    </tr>\n",
       "    <tr>\n",
       "      <th>3</th>\n",
       "      <td>3</td>\n",
       "      <td>CBL</td>\n",
       "      <td>N454D</td>\n",
       "      <td>3</td>\n",
       "      <td>Recent evidence has demonstrated that acquired...</td>\n",
       "    </tr>\n",
       "    <tr>\n",
       "      <th>4</th>\n",
       "      <td>4</td>\n",
       "      <td>CBL</td>\n",
       "      <td>L399V</td>\n",
       "      <td>4</td>\n",
       "      <td>Oncogenic mutations in the monomeric Casitas B...</td>\n",
       "    </tr>\n",
       "  </tbody>\n",
       "</table>\n",
       "</div>"
      ],
      "text/plain": [
       "   ID    Gene             Variation  Class  \\\n",
       "0   0  FAM58A  Truncating Mutations      1   \n",
       "1   1     CBL                 W802*      2   \n",
       "2   2     CBL                 Q249E      2   \n",
       "3   3     CBL                 N454D      3   \n",
       "4   4     CBL                 L399V      4   \n",
       "\n",
       "                                                Text  \n",
       "0  Cyclin-dependent kinases (CDKs) regulate a var...  \n",
       "1   Abstract Background  Non-small cell lung canc...  \n",
       "2   Abstract Background  Non-small cell lung canc...  \n",
       "3  Recent evidence has demonstrated that acquired...  \n",
       "4  Oncogenic mutations in the monomeric Casitas B...  "
      ]
     },
     "execution_count": 5,
     "metadata": {},
     "output_type": "execute_result"
    }
   ],
   "source": [
    "# train_data = pd.concat([train_var_df.set_index('ID'),\n",
    "#                         train_text_df.set_index('ID')],axis=1)\n",
    "train_data = pd.merge(train_var_df, train_text_df, how='left',on = 'ID').fillna('')\n",
    "train_data['ID'] = train_data.ID.astype(int)\n",
    "train_data.head()"
   ]
  },
  {
   "cell_type": "code",
   "execution_count": 6,
   "metadata": {},
   "outputs": [
    {
     "data": {
      "text/html": [
       "<div>\n",
       "<style scoped>\n",
       "    .dataframe tbody tr th:only-of-type {\n",
       "        vertical-align: middle;\n",
       "    }\n",
       "\n",
       "    .dataframe tbody tr th {\n",
       "        vertical-align: top;\n",
       "    }\n",
       "\n",
       "    .dataframe thead th {\n",
       "        text-align: right;\n",
       "    }\n",
       "</style>\n",
       "<table border=\"1\" class=\"dataframe\">\n",
       "  <thead>\n",
       "    <tr style=\"text-align: right;\">\n",
       "      <th></th>\n",
       "      <th>ID</th>\n",
       "      <th>Gene</th>\n",
       "      <th>Variation</th>\n",
       "      <th>Class</th>\n",
       "      <th>Text</th>\n",
       "    </tr>\n",
       "  </thead>\n",
       "  <tbody>\n",
       "    <tr>\n",
       "      <th>count</th>\n",
       "      <td>3321.000000</td>\n",
       "      <td>3321</td>\n",
       "      <td>3321</td>\n",
       "      <td>3321.000000</td>\n",
       "      <td>3321</td>\n",
       "    </tr>\n",
       "    <tr>\n",
       "      <th>unique</th>\n",
       "      <td>NaN</td>\n",
       "      <td>264</td>\n",
       "      <td>2996</td>\n",
       "      <td>NaN</td>\n",
       "      <td>1921</td>\n",
       "    </tr>\n",
       "    <tr>\n",
       "      <th>top</th>\n",
       "      <td>NaN</td>\n",
       "      <td>BRCA1</td>\n",
       "      <td>Truncating Mutations</td>\n",
       "      <td>NaN</td>\n",
       "      <td>The PTEN (phosphatase and tensin homolog) phos...</td>\n",
       "    </tr>\n",
       "    <tr>\n",
       "      <th>freq</th>\n",
       "      <td>NaN</td>\n",
       "      <td>264</td>\n",
       "      <td>93</td>\n",
       "      <td>NaN</td>\n",
       "      <td>53</td>\n",
       "    </tr>\n",
       "    <tr>\n",
       "      <th>mean</th>\n",
       "      <td>1660.000000</td>\n",
       "      <td>NaN</td>\n",
       "      <td>NaN</td>\n",
       "      <td>4.365854</td>\n",
       "      <td>NaN</td>\n",
       "    </tr>\n",
       "    <tr>\n",
       "      <th>std</th>\n",
       "      <td>958.834449</td>\n",
       "      <td>NaN</td>\n",
       "      <td>NaN</td>\n",
       "      <td>2.309781</td>\n",
       "      <td>NaN</td>\n",
       "    </tr>\n",
       "    <tr>\n",
       "      <th>min</th>\n",
       "      <td>0.000000</td>\n",
       "      <td>NaN</td>\n",
       "      <td>NaN</td>\n",
       "      <td>1.000000</td>\n",
       "      <td>NaN</td>\n",
       "    </tr>\n",
       "    <tr>\n",
       "      <th>25%</th>\n",
       "      <td>830.000000</td>\n",
       "      <td>NaN</td>\n",
       "      <td>NaN</td>\n",
       "      <td>2.000000</td>\n",
       "      <td>NaN</td>\n",
       "    </tr>\n",
       "    <tr>\n",
       "      <th>50%</th>\n",
       "      <td>1660.000000</td>\n",
       "      <td>NaN</td>\n",
       "      <td>NaN</td>\n",
       "      <td>4.000000</td>\n",
       "      <td>NaN</td>\n",
       "    </tr>\n",
       "    <tr>\n",
       "      <th>75%</th>\n",
       "      <td>2490.000000</td>\n",
       "      <td>NaN</td>\n",
       "      <td>NaN</td>\n",
       "      <td>7.000000</td>\n",
       "      <td>NaN</td>\n",
       "    </tr>\n",
       "    <tr>\n",
       "      <th>max</th>\n",
       "      <td>3320.000000</td>\n",
       "      <td>NaN</td>\n",
       "      <td>NaN</td>\n",
       "      <td>9.000000</td>\n",
       "      <td>NaN</td>\n",
       "    </tr>\n",
       "  </tbody>\n",
       "</table>\n",
       "</div>"
      ],
      "text/plain": [
       "                 ID   Gene             Variation        Class  \\\n",
       "count   3321.000000   3321                  3321  3321.000000   \n",
       "unique          NaN    264                  2996          NaN   \n",
       "top             NaN  BRCA1  Truncating Mutations          NaN   \n",
       "freq            NaN    264                    93          NaN   \n",
       "mean    1660.000000    NaN                   NaN     4.365854   \n",
       "std      958.834449    NaN                   NaN     2.309781   \n",
       "min        0.000000    NaN                   NaN     1.000000   \n",
       "25%      830.000000    NaN                   NaN     2.000000   \n",
       "50%     1660.000000    NaN                   NaN     4.000000   \n",
       "75%     2490.000000    NaN                   NaN     7.000000   \n",
       "max     3320.000000    NaN                   NaN     9.000000   \n",
       "\n",
       "                                                     Text  \n",
       "count                                                3321  \n",
       "unique                                               1921  \n",
       "top     The PTEN (phosphatase and tensin homolog) phos...  \n",
       "freq                                                   53  \n",
       "mean                                                  NaN  \n",
       "std                                                   NaN  \n",
       "min                                                   NaN  \n",
       "25%                                                   NaN  \n",
       "50%                                                   NaN  \n",
       "75%                                                   NaN  \n",
       "max                                                   NaN  "
      ]
     },
     "execution_count": 6,
     "metadata": {},
     "output_type": "execute_result"
    }
   ],
   "source": [
    "train_data.describe(include='all')"
   ]
  },
  {
   "cell_type": "code",
   "execution_count": 7,
   "metadata": {},
   "outputs": [
    {
     "data": {
      "text/html": [
       "<div>\n",
       "<style scoped>\n",
       "    .dataframe tbody tr th:only-of-type {\n",
       "        vertical-align: middle;\n",
       "    }\n",
       "\n",
       "    .dataframe tbody tr th {\n",
       "        vertical-align: top;\n",
       "    }\n",
       "\n",
       "    .dataframe thead th {\n",
       "        text-align: right;\n",
       "    }\n",
       "</style>\n",
       "<table border=\"1\" class=\"dataframe\">\n",
       "  <thead>\n",
       "    <tr style=\"text-align: right;\">\n",
       "      <th></th>\n",
       "      <th>ID</th>\n",
       "      <th>Gene</th>\n",
       "      <th>Variation</th>\n",
       "    </tr>\n",
       "  </thead>\n",
       "  <tbody>\n",
       "    <tr>\n",
       "      <th>0</th>\n",
       "      <td>1</td>\n",
       "      <td>CHEK2</td>\n",
       "      <td>H371Y</td>\n",
       "    </tr>\n",
       "    <tr>\n",
       "      <th>1</th>\n",
       "      <td>2</td>\n",
       "      <td>AXIN2</td>\n",
       "      <td>Truncating Mutations</td>\n",
       "    </tr>\n",
       "    <tr>\n",
       "      <th>2</th>\n",
       "      <td>3</td>\n",
       "      <td>WNT4</td>\n",
       "      <td>E216G</td>\n",
       "    </tr>\n",
       "    <tr>\n",
       "      <th>3</th>\n",
       "      <td>4</td>\n",
       "      <td>SUCLA2</td>\n",
       "      <td>G118R</td>\n",
       "    </tr>\n",
       "    <tr>\n",
       "      <th>4</th>\n",
       "      <td>5</td>\n",
       "      <td>BRAF</td>\n",
       "      <td>T599insTT</td>\n",
       "    </tr>\n",
       "  </tbody>\n",
       "</table>\n",
       "</div>"
      ],
      "text/plain": [
       "   ID    Gene             Variation\n",
       "0   1   CHEK2                 H371Y\n",
       "1   2   AXIN2  Truncating Mutations\n",
       "2   3    WNT4                 E216G\n",
       "3   4  SUCLA2                 G118R\n",
       "4   5    BRAF             T599insTT"
      ]
     },
     "execution_count": 7,
     "metadata": {},
     "output_type": "execute_result"
    }
   ],
   "source": [
    "#dataframe.head returns first 5 rows\n",
    "#test variants\n",
    "test_var_df.head()"
   ]
  },
  {
   "cell_type": "code",
   "execution_count": 8,
   "metadata": {},
   "outputs": [
    {
     "data": {
      "text/html": [
       "<div>\n",
       "<style scoped>\n",
       "    .dataframe tbody tr th:only-of-type {\n",
       "        vertical-align: middle;\n",
       "    }\n",
       "\n",
       "    .dataframe tbody tr th {\n",
       "        vertical-align: top;\n",
       "    }\n",
       "\n",
       "    .dataframe thead th {\n",
       "        text-align: right;\n",
       "    }\n",
       "</style>\n",
       "<table border=\"1\" class=\"dataframe\">\n",
       "  <thead>\n",
       "    <tr style=\"text-align: right;\">\n",
       "      <th></th>\n",
       "      <th>ID</th>\n",
       "      <th>Text</th>\n",
       "    </tr>\n",
       "  </thead>\n",
       "  <tbody>\n",
       "    <tr>\n",
       "      <th>0</th>\n",
       "      <td>1</td>\n",
       "      <td>The incidence of breast cancer is increasing i...</td>\n",
       "    </tr>\n",
       "    <tr>\n",
       "      <th>1</th>\n",
       "      <td>2</td>\n",
       "      <td>An unselected series of 310 colorectal carcino...</td>\n",
       "    </tr>\n",
       "    <tr>\n",
       "      <th>2</th>\n",
       "      <td>3</td>\n",
       "      <td>Mycosis fungoides and Sézary syndrome are prim...</td>\n",
       "    </tr>\n",
       "    <tr>\n",
       "      <th>3</th>\n",
       "      <td>4</td>\n",
       "      <td>Regulated progression through the cell cycle ...</td>\n",
       "    </tr>\n",
       "    <tr>\n",
       "      <th>4</th>\n",
       "      <td>5</td>\n",
       "      <td>Pilocytic astrocytoma (PA) is emerging as a tu...</td>\n",
       "    </tr>\n",
       "  </tbody>\n",
       "</table>\n",
       "</div>"
      ],
      "text/plain": [
       "   ID                                               Text\n",
       "0   1  The incidence of breast cancer is increasing i...\n",
       "1   2  An unselected series of 310 colorectal carcino...\n",
       "2   3  Mycosis fungoides and Sézary syndrome are prim...\n",
       "3   4   Regulated progression through the cell cycle ...\n",
       "4   5  Pilocytic astrocytoma (PA) is emerging as a tu..."
      ]
     },
     "execution_count": 8,
     "metadata": {},
     "output_type": "execute_result"
    }
   ],
   "source": [
    "#returns first 5 rows of test text\n",
    "test_text_df.head()"
   ]
  },
  {
   "cell_type": "code",
   "execution_count": 9,
   "metadata": {},
   "outputs": [
    {
     "data": {
      "text/html": [
       "<div>\n",
       "<style scoped>\n",
       "    .dataframe tbody tr th:only-of-type {\n",
       "        vertical-align: middle;\n",
       "    }\n",
       "\n",
       "    .dataframe tbody tr th {\n",
       "        vertical-align: top;\n",
       "    }\n",
       "\n",
       "    .dataframe thead th {\n",
       "        text-align: right;\n",
       "    }\n",
       "</style>\n",
       "<table border=\"1\" class=\"dataframe\">\n",
       "  <thead>\n",
       "    <tr style=\"text-align: right;\">\n",
       "      <th></th>\n",
       "      <th>ID</th>\n",
       "      <th>Gene</th>\n",
       "      <th>Variation</th>\n",
       "      <th>Text</th>\n",
       "    </tr>\n",
       "  </thead>\n",
       "  <tbody>\n",
       "    <tr>\n",
       "      <th>0</th>\n",
       "      <td>1</td>\n",
       "      <td>CHEK2</td>\n",
       "      <td>H371Y</td>\n",
       "      <td>The incidence of breast cancer is increasing i...</td>\n",
       "    </tr>\n",
       "    <tr>\n",
       "      <th>1</th>\n",
       "      <td>2</td>\n",
       "      <td>AXIN2</td>\n",
       "      <td>Truncating Mutations</td>\n",
       "      <td>An unselected series of 310 colorectal carcino...</td>\n",
       "    </tr>\n",
       "    <tr>\n",
       "      <th>2</th>\n",
       "      <td>3</td>\n",
       "      <td>WNT4</td>\n",
       "      <td>E216G</td>\n",
       "      <td>Mycosis fungoides and Sézary syndrome are prim...</td>\n",
       "    </tr>\n",
       "    <tr>\n",
       "      <th>3</th>\n",
       "      <td>4</td>\n",
       "      <td>SUCLA2</td>\n",
       "      <td>G118R</td>\n",
       "      <td>Regulated progression through the cell cycle ...</td>\n",
       "    </tr>\n",
       "    <tr>\n",
       "      <th>4</th>\n",
       "      <td>5</td>\n",
       "      <td>BRAF</td>\n",
       "      <td>T599insTT</td>\n",
       "      <td>Pilocytic astrocytoma (PA) is emerging as a tu...</td>\n",
       "    </tr>\n",
       "  </tbody>\n",
       "</table>\n",
       "</div>"
      ],
      "text/plain": [
       "   ID    Gene             Variation  \\\n",
       "0   1   CHEK2                 H371Y   \n",
       "1   2   AXIN2  Truncating Mutations   \n",
       "2   3    WNT4                 E216G   \n",
       "3   4  SUCLA2                 G118R   \n",
       "4   5    BRAF             T599insTT   \n",
       "\n",
       "                                                Text  \n",
       "0  The incidence of breast cancer is increasing i...  \n",
       "1  An unselected series of 310 colorectal carcino...  \n",
       "2  Mycosis fungoides and Sézary syndrome are prim...  \n",
       "3   Regulated progression through the cell cycle ...  \n",
       "4  Pilocytic astrocytoma (PA) is emerging as a tu...  "
      ]
     },
     "execution_count": 9,
     "metadata": {},
     "output_type": "execute_result"
    }
   ],
   "source": [
    "# test_data = pd.concat([test_var_df.set_index('ID'),\n",
    "#                         test_text_df.set_index('ID')],axis=1)\n",
    "test_data = pd.merge(test_var_df, test_text_df, how='left',on = 'ID').fillna('')\n",
    "test_data['ID'] = test_data.ID.astype(int)\n",
    "test_data.head()"
   ]
  },
  {
   "cell_type": "code",
   "execution_count": 10,
   "metadata": {},
   "outputs": [
    {
     "data": {
      "text/html": [
       "<div>\n",
       "<style scoped>\n",
       "    .dataframe tbody tr th:only-of-type {\n",
       "        vertical-align: middle;\n",
       "    }\n",
       "\n",
       "    .dataframe tbody tr th {\n",
       "        vertical-align: top;\n",
       "    }\n",
       "\n",
       "    .dataframe thead th {\n",
       "        text-align: right;\n",
       "    }\n",
       "</style>\n",
       "<table border=\"1\" class=\"dataframe\">\n",
       "  <thead>\n",
       "    <tr style=\"text-align: right;\">\n",
       "      <th></th>\n",
       "      <th>ID</th>\n",
       "      <th>Gene</th>\n",
       "      <th>Variation</th>\n",
       "      <th>Text</th>\n",
       "    </tr>\n",
       "  </thead>\n",
       "  <tbody>\n",
       "    <tr>\n",
       "      <th>count</th>\n",
       "      <td>986.000000</td>\n",
       "      <td>986</td>\n",
       "      <td>986</td>\n",
       "      <td>986</td>\n",
       "    </tr>\n",
       "    <tr>\n",
       "      <th>unique</th>\n",
       "      <td>NaN</td>\n",
       "      <td>279</td>\n",
       "      <td>945</td>\n",
       "      <td>874</td>\n",
       "    </tr>\n",
       "    <tr>\n",
       "      <th>top</th>\n",
       "      <td>NaN</td>\n",
       "      <td>TP53</td>\n",
       "      <td>Truncating Mutations</td>\n",
       "      <td>Among the best-studied therapeutic targets in ...</td>\n",
       "    </tr>\n",
       "    <tr>\n",
       "      <th>freq</th>\n",
       "      <td>NaN</td>\n",
       "      <td>40</td>\n",
       "      <td>18</td>\n",
       "      <td>24</td>\n",
       "    </tr>\n",
       "    <tr>\n",
       "      <th>mean</th>\n",
       "      <td>493.500000</td>\n",
       "      <td>NaN</td>\n",
       "      <td>NaN</td>\n",
       "      <td>NaN</td>\n",
       "    </tr>\n",
       "    <tr>\n",
       "      <th>std</th>\n",
       "      <td>284.777984</td>\n",
       "      <td>NaN</td>\n",
       "      <td>NaN</td>\n",
       "      <td>NaN</td>\n",
       "    </tr>\n",
       "    <tr>\n",
       "      <th>min</th>\n",
       "      <td>1.000000</td>\n",
       "      <td>NaN</td>\n",
       "      <td>NaN</td>\n",
       "      <td>NaN</td>\n",
       "    </tr>\n",
       "    <tr>\n",
       "      <th>25%</th>\n",
       "      <td>247.250000</td>\n",
       "      <td>NaN</td>\n",
       "      <td>NaN</td>\n",
       "      <td>NaN</td>\n",
       "    </tr>\n",
       "    <tr>\n",
       "      <th>50%</th>\n",
       "      <td>493.500000</td>\n",
       "      <td>NaN</td>\n",
       "      <td>NaN</td>\n",
       "      <td>NaN</td>\n",
       "    </tr>\n",
       "    <tr>\n",
       "      <th>75%</th>\n",
       "      <td>739.750000</td>\n",
       "      <td>NaN</td>\n",
       "      <td>NaN</td>\n",
       "      <td>NaN</td>\n",
       "    </tr>\n",
       "    <tr>\n",
       "      <th>max</th>\n",
       "      <td>986.000000</td>\n",
       "      <td>NaN</td>\n",
       "      <td>NaN</td>\n",
       "      <td>NaN</td>\n",
       "    </tr>\n",
       "  </tbody>\n",
       "</table>\n",
       "</div>"
      ],
      "text/plain": [
       "                ID  Gene             Variation  \\\n",
       "count   986.000000   986                   986   \n",
       "unique         NaN   279                   945   \n",
       "top            NaN  TP53  Truncating Mutations   \n",
       "freq           NaN    40                    18   \n",
       "mean    493.500000   NaN                   NaN   \n",
       "std     284.777984   NaN                   NaN   \n",
       "min       1.000000   NaN                   NaN   \n",
       "25%     247.250000   NaN                   NaN   \n",
       "50%     493.500000   NaN                   NaN   \n",
       "75%     739.750000   NaN                   NaN   \n",
       "max     986.000000   NaN                   NaN   \n",
       "\n",
       "                                                     Text  \n",
       "count                                                 986  \n",
       "unique                                                874  \n",
       "top     Among the best-studied therapeutic targets in ...  \n",
       "freq                                                   24  \n",
       "mean                                                  NaN  \n",
       "std                                                   NaN  \n",
       "min                                                   NaN  \n",
       "25%                                                   NaN  \n",
       "50%                                                   NaN  \n",
       "75%                                                   NaN  \n",
       "max                                                   NaN  "
      ]
     },
     "execution_count": 10,
     "metadata": {},
     "output_type": "execute_result"
    }
   ],
   "source": [
    "test_data.describe(include='all')"
   ]
  },
  {
   "cell_type": "code",
   "execution_count": 11,
   "metadata": {
    "scrolled": true
   },
   "outputs": [
    {
     "name": "stdout",
     "output_type": "stream",
     "text": [
      "ID,Text\n",
      "\n",
      "0||Cyclin-dependent kinases (CDKs) regulate a variety of fundamental cellular processes. CDK10 stands out as one of the last orphan CDKs for which no activating cyclin has been identified and no kinase activity revealed. Previous work has shown that CDK10 silencing increases ETS2 (v-ets erythroblastosis virus E26 oncogene homolog 2)-driven activation of the MAPK pathway, which confers tamoxifen resistance to breast cancer cells. The precise mechanisms by which CDK10 modulates ETS2 activity, and more generally the functions of CDK10, remain elusive. Here we demonstrate that CDK10 is a cyclin-dependent kinase by identifying cyclin M as an activating cyclin. Cyclin M, an orphan cyclin, is the product of FAM58A, whose mutations cause STAR syndrome, a human developmental anomaly whose features include toe syndactyly, telecanthus, and anogenital and renal malformations. We show that STAR syndrome-associated cyclin M mutants are unable to interact with CDK10. Cyclin M silencing phenocopies CDK10 silencing in increasing c-Raf and in conferring tamoxifen resistance to breast cancer cells. CDK10/cyclin M phosphorylates ETS2 in vitro, and in cells it positively controls ETS2 degradation by the proteasome. ETS2 protein levels are increased in cells derived from a STAR patient, and this increase is attributable to decreased cyclin M levels. Altogether, our results reveal an additional regulatory mechanism for ETS2, which plays key roles in cancer and development. They also shed light on the molecular mechanisms underlying STAR syndrome.Cyclin-dependent kinases (CDKs) play a pivotal role in the control of a number of fundamental cellular processes (1). The human genome contains 21 genes encoding proteins that can be considered as members of the CDK family owing to their sequence similarity with bona fide CDKs, those known to be activated by cyclins (2). Although discovered almost 20 y ago (3, 4), CDK10 remains one of the two CDKs without an identified cyclin partner. This knowledge gap has largely impeded the exploration of its biological functions. CDK10 can act as a positive cell cycle regulator in some cells (5, 6) or as a tumor suppressor in others (7, 8). CDK10 interacts with the ETS2 (v-ets erythroblastosis virus E26 oncogene homolog 2) transcription factor and inhibits its transcriptional activity through an unknown mechanism (9). CDK10 knockdown derepresses ETS2, which increases the expression of the c-Raf protein kinase, activates the MAPK pathway, and induces resistance of MCF7 cells to tamoxifen (6).Here, we deorphanize CDK10 by identifying cyclin M, the product of FAM58A, as a binding partner. Mutations in this gene that predict absence or truncation of cyclin M are associated with STAR syndrome, whose features include toe syndactyly, telecanthus, and anogenital and renal malformations in heterozygous females (10). However, both the functions of cyclin M and the pathogenesis of STAR syndrome remain unknown. We show that a recombinant CDK10/cyclin M heterodimer is an active protein kinase that phosphorylates ETS2 in vitro. Cyclin M silencing phenocopies CDK10 silencing in increasing c-Raf and phospho-ERK expression levels and in inducing tamoxifen resistance in estrogen receptor (ER)+ breast cancer cells. We show that CDK10/cyclin M positively controls ETS2 degradation by the proteasome, through the phosphorylation of two neighboring serines. Finally, we detect an increased ETS2 expression level in cells derived from a STAR patient, and we demonstrate that it is attributable to the decreased cyclin M expression level observed in these cells.Previous SectionNext SectionResultsA yeast two-hybrid (Y2H) screen unveiled an interaction signal between CDK10 and a mouse protein whose C-terminal half presents a strong sequence homology with the human FAM58A gene product [whose proposed name is cyclin M (11)]. We thus performed Y2H mating assays to determine whether human CDK10 interacts with human cyclin M (Fig. 1 A–C). The longest CDK10 isoform (P1) expressed as a bait protein produced a strong interaction phenotype with full-length cyclin M (expressed as a prey protein) but no detectable phenotype with cyclin D1, p21 (CIP1), and Cdi1 (KAP), which are known binding partners of other CDKs (Fig. 1B). CDK1 and CDK3 also produced Y2H signals with cyclin M, albeit notably weaker than that observed with CDK10 (Fig. 1B). An interaction phenotype was also observed between full-length cyclin M and CDK10 proteins expressed as bait and prey, respectively (Fig. S1A). We then tested different isoforms of CDK10 and cyclin M originating from alternative gene splicing, and two truncated cyclin M proteins corresponding to the hypothetical products of two mutated FAM58A genes found in STAR syndrome patients (10). None of these shorter isoforms produced interaction phenotypes (Fig. 1 A and C and Fig. S1A).Fig. 1.In a new window Download PPTFig. 1.CDK10 and cyclin M form an interaction complex. (A) Schematic representation of the different protein isoforms analyzed by Y2H assays. Amino acid numbers are indicated. Black boxes indicate internal deletions. The red box indicates a differing amino acid sequence compared with CDK10 P1. (B) Y2H assay between a set of CDK proteins expressed as baits (in fusion to the LexA DNA binding domain) and CDK interacting proteins expressed as preys (in fusion to the B42 transcriptional activator). pEG202 and pJG4-5 are the empty bait and prey plasmids expressing LexA and B42, respectively. lacZ was used as a reporter gene, and blue yeast are indicative of a Y2H interaction phenotype. (C) Y2H assay between the different CDK10 and cyclin M isoforms. The amino-terminal region of ETS2, known to interact with CDK10 (9), was also assayed. (D) Western blot analysis of Myc-CDK10 (wt or kd) and CycM-V5-6His expression levels in transfected HEK293 cells. (E) Western blot analysis of Myc-CDK10 (wt or kd) immunoprecipitates obtained using the anti-Myc antibody. “Inputs” correspond to 10 μg total lysates obtained from HEK293 cells coexpressing Myc-CDK10 (wt or kd) and CycM-V5-6His. (F) Western blot analysis of immunoprecipitates obtained using the anti-CDK10 antibody or a control goat antibody, from human breast cancer MCF7 cells. “Input” corresponds to 30 μg MCF7 total cell lysates. The lower band of the doublet observed on the upper panel comigrates with the exogenously expressed untagged CDK10 and thus corresponds to endogenous CDK10. The upper band of the doublet corresponds to a nonspecific signal, as demonstrated by it insensitivity to either overexpression of CDK10 (as seen on the left lane) or silencing of CDK10 (Fig. S2B). Another experiment with a longer gel migration is shown in Fig. S1D.Next we examined the ability of CDK10 and cyclin M to interact when expressed in human cells (Fig. 1 D and E). We tested wild-type CDK10 (wt) and a kinase dead (kd) mutant bearing a D181A amino acid substitution that abolishes ATP binding (12). We expressed cyclin M-V5-6His and/or Myc-CDK10 (wt or kd) in a human embryonic kidney cell line (HEK293). The expression level of cyclin M-V5-6His was significantly increased upon coexpression with Myc-CDK10 (wt or kd) and, to a lesser extent, that of Myc-CDK10 (wt or kd) was increased upon coexpression with cyclin M-V5-6His (Fig. 1D). We then immunoprecipitated Myc-CDK10 proteins and detected the presence of cyclin M in the CDK10 (wt) and (kd) immunoprecipitates only when these proteins were coexpressed pair-wise (Fig. 1E). We confirmed these observations by detecting the presence of Myc-CDK10 in cyclin M-V5-6His immunoprecipitates (Fig. S1B). These experiments confirmed the lack of robust interaction between the CDK10.P2 isoform and cyclin M (Fig. S1C). To detect the interaction between endogenous proteins, we performed immunoprecipitations on nontransfected MCF7 cells derived from a human breast cancer. CDK10 and cyclin M antibodies detected their cognate endogenous proteins by Western blotting. We readily detected cyclin M in immunoprecipitates obtained with the CDK10 antibody but not with a control antibody (Fig. 1F). These results confirm the physical interaction between CDK10 and cyclin M in human cells.To unveil a hypothesized CDK10/cyclin M protein kinase activity, we produced GST-CDK10 and StrepII-cyclin M fusion proteins in insect cells, either individually or in combination. We observed that GST-CDK10 and StrepII-cyclin M copurified, thus confirming their interaction in yet another cellular model (Fig. 2A). We then performed in vitro kinase assays with purified proteins, using histone H1 as a generic substrate. Histone H1 phosphorylation was detected only from lysates of cells coexpressing GST-CDK10 and StrepII-cyclin M. No phosphorylation was detected when GST-CDK10 or StrepII-cyclin M were expressed alone, or when StrepII-cyclin M was coexpressed with GST-CDK10(kd) (Fig. 2A). Next we investigated whether ETS2, which is known to interact with CDK10 (9) (Fig. 1C), is a phosphorylation substrate of CDK10/cyclin M. We detected strong phosphorylation of ETS2 by the GST-CDK10/StrepII-cyclin M purified heterodimer, whereas no phosphorylation was detected using GST-CDK10 alone or GST-CDK10(kd)/StrepII-cyclin M heterodimer (Fig. 2B).Fig. 2.In a new window Download PPTFig. 2.CDK10 is a cyclin M-dependent protein kinase. (A) In vitro protein kinase assay on histone H1. Lysates from insect cells expressing different proteins were purified on a glutathione Sepharose matrix to capture GST-CDK10(wt or kd) fusion proteins alone, or in complex with STR-CycM fusion protein. Purified protein expression levels were analyzed by Western blots (Top and Upper Middle). The kinase activity was determined by autoradiography of histone H1, whose added amounts were visualized by Coomassie staining (Lower Middle and Bottom). (B) Same as in A, using purified recombinant 6His-ETS2 as a substrate.CDK10 silencing has been shown to increase ETS2-driven c-RAF transcription and to activate the MAPK pathway (6). We investigated whether cyclin M is also involved in this regulatory pathway. To aim at a highly specific silencing, we used siRNA pools (mix of four different siRNAs) at low final concentration (10 nM). Both CDK10 and cyclin M siRNA pools silenced the expression of their cognate targets (Fig. 3 A and C and Fig. S2) and, interestingly, the cyclin M siRNA pool also caused a marked decrease in CDK10 protein level (Fig. 3A and Fig. S2B). These results, and those shown in Fig. 1D, suggest that cyclin M binding stabilizes CDK10. Cyclin M silencing induced an increase in c-Raf protein and mRNA levels (Fig. 3 B and C) and in phosphorylated ERK1 and ERK2 protein levels (Fig. S3B), similarly to CDK10 silencing. As expected from these effects (6), CDK10 and cyclin M silencing both decreased the sensitivity of ER+ MCF7 cells to tamoxifen, to a similar extent. The combined silencing of both genes did not result in a higher resistance to the drug (Fig. S3C). Altogether, these observations demonstrate a functional interaction between cyclin M and CDK10, which negatively controls ETS2.Fig. 3.In a new window Download PPTFig. 3.Cyclin M silencing up-regulates c-Raf expression. (A) Western blot analysis of endogenous CDK10 and cyclin M expression levels in MCF7 cells, in response to siRNA-mediated gene silencing. (B) Western blot analysis of endogenous c-Raf expression levels in MCF7 cells, in response to CDK10 or cyclin M silencing. A quantification is shown in Fig. S3A. (C) Quantitative RT-PCR analysis of CDK10, cyclin M, and c-Raf mRNA levels, in response to CDK10 (Upper) or cyclin M (Lower) silencing. **P ≤ 0.01; ***P ≤ 0.001.We then wished to explore the mechanism by which CDK10/cyclin M controls ETS2. ETS2 is a short-lived protein degraded by the proteasome (13). A straightforward hypothesis is that CDK10/cyclin M positively controls ETS2 degradation. We thus examined the impact of CDK10 or cyclin M silencing on ETS2 expression levels. The silencing of CDK10 and that of cyclin M caused an increase in the expression levels of an exogenously expressed Flag-ETS2 protein (Fig. S4A), as well as of the endogenous ETS2 protein (Fig. 4A). This increase is not attributable to increased ETS2 mRNA levels, which marginally fluctuated in response to CDK10 or cyclin M silencing (Fig. S4B). We then examined the expression levels of the Flag-tagged ETS2 protein when expressed alone or in combination with Myc-CDK10 or -CDK10(kd), with or without cyclin M-V5-6His. Flag-ETS2 was readily detected when expressed alone or, to a lesser extent, when coexpressed with CDK10(kd). However, its expression level was dramatically decreased when coexpressed with CDK10 alone, or with CDK10 and cyclin M (Fig. 4B). These observations suggest that endogenous cyclin M levels are in excess compared with those of CDK10 in MCF7 cells, and they show that the major decrease in ETS2 levels observed upon CDK10 coexpression involves CDK10 kinase activity. Treatment of cells coexpressing Flag-ETS2, CDK10, and cyclin M with the proteasome inhibitor MG132 largely rescued Flag-ETS2 expression levels (Fig. 4B).Fig. 4.In a new window Download PPTFig. 4.CDK10/cyclin M controls ETS2 stability in human cancer derived cells. (A) Western blot analysis of endogenous ETS2 expression levels in MCF7 cells, in response to siRNA-mediated CDK10 and/or cyclin M silencing. A quantification is shown in Fig. S4B. (B) Western blot analysis of exogenously expressed Flag-ETS2 protein levels in MCF7 cells cotransfected with empty vectors or coexpressing Myc-CDK10 (wt or kd), or Myc-CDK10/CycM-V5-6His. The latter cells were treated for 16 h with the MG132 proteasome inhibitor. Proper expression of CDK10 and cyclin M tagged proteins was verified by Western blot analysis. (C and D) Western blot analysis of expression levels of exogenously expressed Flag-ETS2 wild-type or mutant proteins in MCF7 cells, in the absence of (C) or in response to (D) Myc-CDK10/CycM-V5-6His expression. Quantifications are shown in Fig. S4 C and D.A mass spectrometry analysis of recombinant ETS2 phosphorylated by CDK10/cyclin M in vitro revealed the existence of multiple phosphorylated residues, among which are two neighboring phospho-serines (at positions 220 and 225) that may form a phosphodegron (14) (Figs. S5–S8). To confirm this finding, we compared the phosphorylation level of recombinant ETS2wt with that of ETS2SASA protein, a mutant bearing alanine substitutions of these two serines. As expected from the existence of multiple phosphorylation sites, we detected a small but reproducible, significant decrease of phosphorylation level of ETS2SASA compared with ETS2wt (Fig. S9), thus confirming that Ser220/Ser225 are phosphorylated by CDK10/cyclin M. To establish a direct link between ETS2 phosphorylation by CDK10/cyclin M and degradation, we examined the expression levels of Flag-ETS2SASA. In the absence of CDK10/cyclin M coexpression, it did not differ significantly from that of Flag-ETS2. This is contrary to that of Flag-ETS2DBM, bearing a deletion of the N-terminal destruction (D-) box that was previously shown to be involved in APC-Cdh1–mediated degradation of ETS2 (13) (Fig. 4C). However, contrary to Flag-ETS2 wild type, the expression level of Flag-ETS2SASA remained insensitive to CDK10/cyclin M coexpression (Fig. 4D). Altogether, these results suggest that CDK10/cyclin M directly controls ETS2 degradation through the phosphorylation of these two serines.Finally, we studied a lymphoblastoid cell line derived from a patient with STAR syndrome, bearing FAM58A mutation c.555+1G>A, predicted to result in aberrant splicing (10). In accordance with incomplete skewing of X chromosome inactivation previously found in this patient, we detected a decreased expression level of cyclin M protein in the STAR cell line, compared with a control lymphoblastoid cell line. In line with our preceding observations, we detected an increased expression level of ETS2 protein in the STAR cell line compared with the control (Fig. 5A and Fig. S10A). We then examined by quantitative RT-PCR the mRNA expression levels of the corresponding genes. The STAR cell line showed a decreased expression level of cyclin M mRNA but an expression level of ETS2 mRNA similar to that of the control cell line (Fig. 5B). To demonstrate that the increase in ETS2 protein expression is indeed a result of the decreased cyclin M expression observed in the STAR patient-derived cell line, we expressed cyclin M-V5-6His in this cell line. This expression caused a decrease in ETS2 protein levels (Fig. 5C).Fig. 5.In a new window Download PPTFig. 5.Decreased cyclin M expression in STAR patient-derived cells results in increased ETS2 protein level. (A) Western blot analysis of cyclin M and ETS2 protein levels in a STAR patient-derived lymphoblastoid cell line and in a control lymphoblastoid cell line, derived from a healthy individual. A quantification is shown in Fig. S10A. (B) Quantitative RT-PCR analysis of cyclin M and ETS2 mRNA levels in the same cells. ***P ≤ 0.001. (C) Western blot analysis of ETS2 protein levels in the STAR patient-derived lymphoblastoid cell line transfected with an empty vector or a vector directing the expression of cyclin M-V5-6His. Another Western blot revealing endogenously and exogenously expressed cyclin M levels is shown in Fig. S10B. A quantification of ETS2 protein levels is shown in Fig. S10C.Previous SectionNext SectionDiscussionIn this work, we unveil the interaction between CDK10, the last orphan CDK discovered in the pregenomic era (2), and cyclin M, the only cyclin associated with a human genetic disease so far, and whose functions remain unknown (10). The closest paralogs of CDK10 within the CDK family are the CDK11 proteins, which interact with L-type cyclins (15). Interestingly, the closest paralog of these cyclins within the cyclin family is cyclin M (Fig. S11). The fact that none of the shorter CDK10 isoforms interact robustly with cyclin M suggests that alternative splicing of the CDK10 gene (16, 17) plays an important role in regulating CDK10 functions.The functional relevance of the interaction between CDK10 and cyclin M is supported by different observations. Both proteins seem to enhance each other’s stability, as judged from their increased expression levels when their partner is exogenously coexpressed (Fig. 1D) and from the much reduced endogenous CDK10 expression level observed in response to cyclin M silencing (Fig. 3A and Fig. S2B). CDK10 is subject to ubiquitin-mediated degradation (18). Our observations suggest that cyclin M protects CDK10 from such degradation and that it is the only cyclin partner of CDK10, at least in MCF7 cells. They also suggest that cyclin M stability is enhanced upon binding to CDK10, independently from its kinase activity, as seen for cyclin C and CDK8 (19). We uncover a cyclin M-dependent CDK10 protein kinase activity in vitro, thus demonstrating that this protein, which was named a CDK on the sole basis of its amino acid sequence, is indeed a genuine cyclin-dependent kinase. Our Y2H assays reveal that truncated cyclin M proteins corresponding to the hypothetical products of two STAR syndrome-associated FAM58A mutations do not produce an interaction phenotype with CDK10. Hence, regardless of whether these mutated mRNAs undergo nonsense-mediated decay (as suggested from the decreased cyclin M mRNA levels in STAR cells, shown in Fig. 5B) or give rise to truncated cyclin M proteins, females affected by the STAR syndrome must exhibit compromised CDK10/cyclin M kinase activity at least in some tissues and during specific developmental stages.We show that ETS2, a known interactor of CDK10, is a phosphorylation substrate of CDK10/cyclin M in vitro and that CDK10/cyclin M kinase activity positively controls ETS2 degradation by the proteasome. This control seems to be exerted through a very fine mechanism, as judged from the sensitivity of ETS2 levels to partially decreased CDK10 and cyclin M levels, achieved in MCF7 cells and observed in STAR cells, respectively. These findings offer a straightforward explanation for the already reported up-regulation of ETS2-driven transcription of c-RAF in response to CDK10 silencing (6). We bring evidence that CDK10/cyclin M directly controls ETS2 degradation through the phosphorylation of two neighboring serines, which may form a noncanonical β-TRCP phosphodegron (DSMCPAS) (14). Because none of these two serines precede a proline, they do not conform to usual CDK phosphorylation sites. However, multiple so-called transcriptional CDKs (CDK7, -8, -9, and -11) (to which CDK10 may belong; Fig. S11) have been shown to phosphorylate a variety of motifs in a non–proline-directed fashion, especially in the context of molecular docking with the substrate (20). Here, it can be hypothesized that the high-affinity interaction between CDK10 and the Pointed domain of ETS2 (6, 9) (Fig. 1C) would allow docking-mediated phosphorylation of atypical sites. The control of ETS2 degradation involves a number of players, including APC-Cdh1 (13) and the cullin-RING ligase CRL4 (21). The formal identification of the ubiquitin ligase involved in the CDK10/cyclin M pathway and the elucidation of its concerted action with the other ubiquitin ligases to regulate ETS2 degradation will require further studies.Our results present a number of significant biological and medical implications. First, they shed light on the regulation of ETS2, which plays an important role in development (22) and is frequently deregulated in many cancers (23). Second, our results contribute to the understanding of the molecular mechanisms causing tamoxifen resistance associated with reduced CDK10 expression levels, and they suggest that, like CDK10 (6), cyclin M could also be a predictive clinical marker of hormone therapy response of ERα-positive breast cancer patients. Third, our findings offer an interesting hypothesis on the molecular mechanisms underlying STAR syndrome. Ets2 transgenic mice showing a less than twofold overexpression of Ets2 present severe cranial abnormalities (24), and those observed in STAR patients could thus be caused at least in part by increased ETS2 protein levels. Another expected consequence of enhanced ETS2 expression levels would be a decreased risk to develop certain types of cancers and an increased risk to develop others. Studies on various mouse models (including models of Down syndrome, in which three copies of ETS2 exist) have revealed that ETS2 dosage can repress or promote tumor growth and, hence, that ETS2 exerts noncell autonomous functions in cancer (25). Intringuingly, one of the very few STAR patients identified so far has been diagnosed with a nephroblastoma (26). Finally, our findings will facilitate the general exploration of the biological functions of CDK10 and, in particular, its role in the control of cell division. Previous studies have suggested either a positive role in cell cycle control (5, 6) or a tumor-suppressive activity in some cancers (7, 8). The severe growth retardation exhibited by STAR patients strongly suggests that CDK10/cyclin M plays an important role in the control of cell proliferation.Previous SectionNext SectionMaterials and MethodsCloning of CDK10 and cyclin M cDNAs, plasmid constructions, tamoxifen response analysis, quantitative RT-PCR, mass spectrometry experiments, and antibody production are detailed in SI Materials and Methods.Yeast Two-Hybrid Interaction Assays. We performed yeast interaction mating assays as previously described (27).Mammalian Cell Cultures and Transfections. We grew human HEK293 and MCF7 cells in DMEM supplemented with 10% (vol/vol) FBS (Invitrogen), and we grew lymphoblastoid cells in RPMI 1640 GlutaMAX supplemented with 15% (vol/vol) FBS. We transfected HEK293 and MCF7 cells using Lipofectamine 2000 (Invitrogen) for plasmids, Lipofectamine RNAiMAX (Invitrogen) for siRNAs, and Jetprime (Polyplus) for plasmids/siRNAs combinations according to the manufacturers’ instructions. We transfected lymphoblastoid cells by electroporation (Neon, Invitrogen). For ETS2 stability studies we treated MCF7 cells 32 h after transfection with 10 μM MG132 (Fisher Scientific) for 16 h.Coimmunoprecipitation and Western Blot Experiments. We collected cells by scraping in PBS (or centrifugation for lymphoblastoid cells) and lysed them by sonication in a lysis buffer containing 60 mM β-glycerophosphate, 15 mM p-nitrophenylphosphate, 25 mM 3-(N-morpholino)propanesulfonic acid (Mops) (pH 7.2), 15 mM EGTA, 15 mM MgCl2, 1 mM Na vanadate, 1 mM NaF, 1mM phenylphosphate, 0.1% Nonidet P-40, and a protease inhibitor mixture (Roche). We spun the lysates 15 min at 20,000 × g at 4 °C, collected the supernatants, and determined the protein content using a Bradford assay. We performed the immunoprecipitation experiments on 500 μg of total proteins, in lysis buffer. We precleared the lysates with 20 μL of protein A or G-agarose beads, incubated 1 h 4 °C on a rotating wheel. We added 5 μg of antibody to the supernatants, incubated 1 h 4 °C on a rotating wheel, added 20 μL of protein A or G-agarose beads, and incubated 1 h 4 °C on a rotating wheel. We collected the beads by centrifugation 30 s at 18,000 × g at 4 °C and washed three times in a bead buffer containing 50 mM Tris (pH 7.4), 5 mM NaF, 250 mM NaCl, 5 mM EDTA, 5 mM EGTA, 0.1% Nonidet P-40, and a protease inhibitor coktail (Roche). We directly added sample buffer to the washed pellets, heat-denatured the proteins, and ran the samples on 10% Bis-Tris SDS/PAGE. We transferred the proteins onto Hybond nitrocellulose membranes and processed the blots according to standard procedures. For Western blot experiments, we used the following primary antibodies: anti-Myc (Abcam ab9106, 1:2,000), anti-V5 (Invitrogen R960, 1:5,000), anti-tubulin (Santa Cruz Biotechnology B-7, 1:500), anti-CDK10 (Covalab pab0847p, 1:500 or Santa Cruz Biotechnology C-19, 1:500), anti-CycM (home-made, dilution 1:500 or Covalab pab0882-P, dilution 1:500), anti-Raf1 (Santa Cruz Biotechnology C-20, 1:1,000), anti-ETS2 (Santa Cruz Biotechnology C-20, 1:1,000), anti-Flag (Sigma F7425, 1:1,000), and anti-actin (Sigma A5060, 1:5,000). We used HRP-coupled anti-goat (Santa Cruz Biotechnology SC-2033, dilution 1:2,000), anti-mouse (Bio-Rad 170–6516, dilution 1:3,000) or anti-rabbit (Bio-Rad 172–1019, 1:5,000) as secondary antibodies. We revealed the blots by enhanced chemiluminescence (SuperSignal West Femto, Thermo Scientific).Production and Purification of Recombinant Proteins.GST-CDK10(kd)/StrepII-CycM. We generated recombinant bacmids in DH10Bac Escherichia coli and baculoviruses in Sf9 cells using the Bac-to-Bac system, as described by the provider (Invitrogen). We infected Sf9 cells with GST-CDK10- (or GST-CDK10kd)-producing viruses, or coinfected the cells with StrepII-CycM–producing viruses, and we collected the cells 72 h after infection. To purify GST-fusion proteins, we spun 250 mL cells and resuspended the pellet in 40 mL lysis buffer (PBS, 250 mM NaCl, 0.5% Nonidet P-40, 50 mM NaF, 10 mM β-glycerophosphate, and 0.3 mM Na-vanadate) containing a protease inhibitor mixture (Roche). We lysed the cells by sonication, spun the lysate 30 min at 15,000 × g, collected the soluble fraction, and added it to a 1-mL glutathione-Sepharose matrix. We incubated 1 h at 4 °C, washed four times with lysis buffer, one time with kinase buffer A (see below), and finally resuspended the beads in 100 μL kinase buffer A containing 10% (vol/vol) glycerol for storage.6His-ETS2. We transformed Origami2 DE3 (Novagen) with the 6His-ETS2 expression vector. We induced expression with 0.2 mM isopropyl-β-d-1-thiogalactopyranoside for 3 h at 22 °C. To purify 6His-ETS2, we spun 50 mL cells and resuspended the pellet in 2 mL lysis buffer (PBS, 300 mM NaCl, 10 mM Imidazole, 1 mM DTT, and 0.1% Nonidet P-40) containing a protease inhibitor mixture without EDTA (Roche). We lysed the cells at 1.6 bar using a cell disruptor and spun the lysate 10 min at 20,000 × g. We collected the soluble fraction and added it to 200 μL Cobalt beads (Thermo Scientific). After 1 h incubation at 4 °C on a rotating wheel, we washed four times with lysis buffer. To elute, we incubated beads 30 min with elution buffer (PBS, 250 mM imidazole, pH 7.6) containing the protease inhibitor mixture, spun 30 s at 10,000 × g, and collected the eluted protein.Protein Kinase Assays. We mixed glutathione-Sepharose beads (harboring GST-CDK10 wt or kd, either monomeric or complexed with StrepII-CycM), 22.7 μM BSA, 15 mM DTT, 100 μM ATP, 5 μCi ATP[γ-32P], 7.75 μM histone H1, or 1 μM 6His-ETS2 and added kinase buffer A (25 mM Tris·HCl, 10 mM MgCl2, 1 mM EGTA, 1 mM DTT, and 3.7 μM heparin, pH 7.5) up to a total volume of 30 μL. We incubated the reactions 30 min at 30 °C, added Laemli sample buffer, heat-denatured the samples, and ran 10% Bis-Tris SDS/PAGE. We cut gel slices to detect GST-CDK10 and StrepII-CycM by Western blotting. We stained the gel slices containing the substrate with Coomassie (R-250, Bio-Rad), dried them, and detected the incorporated radioactivity by autoradiography. We identified four unrelated girls with anogenital and renal malformations, dysmorphic facial features, normal intellect and syndactyly of toes. A similar combination of features had been reported previously in a mother–daughter pair1 (Table 1 and Supplementary Note online). These authors noted clinical overlap with Townes-Brocks syndrome but suggested that the phenotype represented a separate autosomal dominant entity (MIM601446). Here we define the cardinal features of this syndrome as a characteristic facial appearance with apparent telecanthus and broad tripartite nasal tip, variable syndactyly of toes 2–5, hypoplastic labia, anal atresia and urogenital malformations (Fig. 1a–h). We also observed a variety of other features (Table 1).  Figure 1: Clinical and molecular characterization of STAR syndrome.  Figure 1 : Clinical and molecular characterization of STAR syndrome. (a–f) Facial appearances of cases 1–3 (apparent telecanthus, dysplastic ears and thin upper lips; a,c,e), and toe syndactyly 2–5, 3–5 or 4–5 (b,d,f) in these cases illustrate recognizable features of STAR syndrome (specific parental consent has been obtained for publication of these photographs). Anal atresia and hypoplastic labia are not shown. (g,h) X-ray films of the feet of case 2 showing only four rays on the left and delta-shaped 4th and 5th metatarsals on the right (h; compare to clinical picture in d). (i) Array-CGH data. Log2 ratio represents copy number loss of six probes spanning between 37.9 and 50.7 kb, with one probe positioned within FAM58A. The deletion does not remove parts of other functional genes. (j) Schematic structure of FAM58A and position of the mutations. FAM58A has five coding exons (boxes). The cyclin domain (green) is encoded by exons 2–4. The horizontal arrow indicates the deletion extending 5' in case 1, which includes exons 1 and 2, whereas the horizontal line below exon 5 indicates the deletion found in case 3, which removes exon 5 and some 3' sequence. The pink horizontal bars above the boxes indicate the amplicons used for qPCR and sequencing (one alternative exon 5 amplicon is not indicated because of space constraints). The mutation 201dupT (case 4) results in an immediate stop codon, and the 555+1G>A and 555-1G>A splice mutations in cases 2, 5 and 6 are predicted to be deleterious because they alter the conserved splice donor and acceptor site of intron 4, respectively.  Full size image (97 KB)  Table 1: Clinical features in STAR syndrome cases  Table 1 - Clinical features in STAR syndrome cases  Full table  On the basis of the phenotypic overlap with Townes-Brocks, Okihiro and Feingold syndromes, we analyzed SALL1 (ref. 2), SALL4 (ref. 3) and MYCN4 but found no mutations in any of these genes (Supplementary Methods online). Next, we carried out genome-wide high-resolution oligonucleotide array comparative genomic hybridization (CGH)5 analysis (Supplementary Methods) of genomic DNA from the most severely affected individual (case 1, with lower lid coloboma, epilepsy and syringomyelia) and identified a heterozygous deletion of 37.9–50.7 kb on Xq28, which removed exons 1 and 2 of FAM58A (Fig. 1i,j). Using real-time PCR, we confirmed the deletion in the child and excluded it in her unaffected parents (Supplementary Fig. 1a online, Supplementary Methods and Supplementary Table 1 online). Through CGH with a customized oligonucleotide array enriched in probes for Xq28, followed by breakpoint cloning, we defined the exact deletion size as 40,068 bp (g.152,514,164_152,554,231del(chromosome X, NCBI Build 36.2); Fig. 1j and Supplementary Figs. 2,3 online). The deletion removes the coding regions of exons 1 and 2 as well as intron 1 (2,774 bp), 492 bp of intron 2, and 36,608 bp of 5' sequence, including the 5' UTR and the entire KRT18P48 pseudogene (NCBI gene ID 340598). Paternity was proven using routine methods. We did not find deletions overlapping FAM58A in the available copy number variation (CNV) databases.  Subsequently, we carried out qPCR analysis of the three other affected individuals (cases 2, 3 and 4) and the mother-daughter pair from the literature (cases 5 and 6). In case 3, we detected a de novo heterozygous deletion of 1.1–10.3 kb overlapping exon 5 (Supplementary Fig. 1b online). Using Xq28-targeted array CGH and breakpoint cloning, we identified a deletion of 4,249 bp (g.152,504,123_152,508,371del(chromosome X, NCBI Build 36.2); Fig. 1j and Supplementary Figs. 2,3), which removed 1,265 bp of intron 4, all of exon 5, including the 3' UTR, and 2,454 bp of 3' sequence.  We found heterozygous FAM58A point mutations in the remaining cases (Fig. 1j, Supplementary Fig. 2, Supplementary Methods and Supplementary Table 1). In case 2, we identified the mutation 555+1G>A, affecting the splice donor site of intron 4. In case 4, we identified the frameshift mutation 201dupT, which immediately results in a premature stop codon N68XfsX1. In cases 5 and 6, we detected the mutation 556-1G>A, which alters the splice acceptor site of intron 4. We validated the point mutations and deletions by independent rounds of PCR and sequencing or by qPCR. We confirmed paternity and de novo status of the point mutations and deletions in all sporadic cases. None of the mutations were seen in the DNA of 60 unaffected female controls, and no larger deletions involving FAM58A were found in 93 unrelated array-CGH investigations.  By analyzing X-chromosome inactivation (Supplementary Methods and Supplementary Fig. 4 online), we found complete skewing of X inactivation in cases 1 and 3–6 and almost complete skewing in case 2, suggesting that cells carrying the mutation on the active X chromosome have a growth disadvantage during fetal development. Using RT-PCR on RNA from lymphoblastoid cells of case 2 (Supplementary Fig. 2), we did not find any aberrant splice products as additional evidence that the mutated allele is inactivated. Furthermore, FAM58A is subjected to X inactivation6. In cases 1 and 3, the parental origin of the deletions could not be determined, as a result of lack of informative SNPs. Case 5, the mother of case 6, gave birth to two boys, both clinically unaffected (samples not available). We cannot exclude that the condition is lethal in males. No fetal losses were reported from any of the families.  The function of FAM58A is unknown. The gene consists of five coding exons, and the 642-bp coding region encodes a protein of 214 amino acids. GenBank lists a mRNA length of 1,257 bp for the reference sequence (NM_152274.2). Expression of the gene (by EST data) was found in 27 of 48 adult tissues including kidney, colon, cervix and uterus, but not heart (NCBI expression viewer, UniGene Hs.496943). Expression was also noted in 24 of 26 listed tumor tissues as well as in embryo and fetus. Genes homologous to FAM58A (NCBI HomoloGene: 13362) are found on the X chromosome in the chimpanzee and the dog. The zebrafish has a similar gene on chromosome 23. However, in the mouse and rat, there are no true homologs. These species have similar but intronless genes on chromosomes 11 (mouse) and 10 (rat), most likely arising from a retrotransposon insertion event. On the murine X chromosome, the flanking genes Atp2b3 and Dusp9 are conserved, but only remnants of the FAM58A sequence can be detected.  FAM58A contains a cyclin-box-fold domain, a protein-binding domain found in cyclins with a role in cell cycle and transcription control. No human phenotype resulting from a cyclin gene mutation has yet been reported. Homozygous knockout mice for Ccnd1 (encoding cyclin D1) are viable but small and have reduced lifespan. They also have dystrophic changes of the retina, likely as a result of decreased cell proliferation and degeneration of photoreceptor cells during embryogenesis7, 8.  Cyclin D1 colocalizes with SALL4 in the nucleus, and both proteins cooperatively mediate transcriptional repression9. As the phenotype of our cases overlaps considerably with that of Townes-Brocks syndrome caused by SALL1 mutations1, we carried out co-immunoprecipitation to find out if SALL1 or SALL4 would interact with FAM58A in a manner similar to that observed for SALL4 and cyclin D1. We found that FAM58A interacts with SALL1 but not with SALL4 (Supplementary Fig. 5 online), supporting the hypothesis that FAM58A and SALL1 participate in the same developmental pathway.  How do FAM58A mutations lead to STAR syndrome? Growth retardation (all cases; Table 1) and retinal abnormalities (three cases) are reminiscent of the reduced body size and retinal anomalies in cyclin D1 knockout mice7, 8. Therefore, a proliferation defect might be partly responsible for STAR syndrome. To address this question, we carried out a knockdown of FAM58A mRNA followed by a proliferation assay. Transfection of HEK293 cells with three different FAM58A-specific RNAi oligonucleotides resulted in a significant reduction of both FAM58A mRNA expression and proliferation of transfected cells (Supplementary Methods and Supplementary Fig. 6 online), supporting the link between FAM58A and cell proliferation.  We found that loss-of-function mutations of FAM58A result in a rather homogeneous clinical phenotype. The additional anomalies in case 1 are likely to result from an effect of the 40-kb deletion on expression of a neighboring gene, possibly ATP2B3 or DUSP9. However, we cannot exclude that the homogeneous phenotype results from an ascertainment bias and that FAM58A mutations, including missense changes, could result in a broader spectrum of malformations. The genes causing the overlapping phenotypes of STAR syndrome and Townes-Brocks syndrome seem to act in the same pathway. Of note, MYCN, a gene mutated in Feingold syndrome, is a direct regulator of cyclin D2 (refs. 10,11); thus, it is worth exploring whether the phenotypic similarities between Feingold and STAR syndrome might be explained by direct regulation of FAM58A by MYCN.  FAM58A is located approximately 0.56 Mb centromeric to MECP2 on Xq28. Duplications overlapping both MECP2 and FAM58A have been described and are not associated with a clinical phenotype in females12, but no deletions overlapping both MECP2 and FAM58A have been observed to date13. Although other genes between FAM58A and MECP2 have been implicated in brain development, FAM58A and MECP2 are the only genes in this region known to result in X-linked dominant phenotypes; thus, deletion of both genes on the same allele might be lethal in both males and females. \n",
      "\n"
     ]
    }
   ],
   "source": [
    "#print 1st row from training text dataframe\n",
    "with open(\"../input/training_text\") as infile:\n",
    "    for i in range(0,2):\n",
    "        line = infile.readline()\n",
    "        print(line)"
   ]
  },
  {
   "cell_type": "code",
   "execution_count": 12,
   "metadata": {},
   "outputs": [
    {
     "data": {
      "image/png": "[encoded data removed]",
      "text/plain": [
       "<matplotlib.figure.Figure at 0x7fa4b90944a8>"
      ]
     },
     "metadata": {},
     "output_type": "display_data"
    }
   ],
   "source": [
    "#frequenct of classes in training data\n",
    "plt.figure(figsize=(12,8))\n",
    "sns.countplot(x=\"Class\", data=train_var_df)\n",
    "plt.xlabel('Class Count', fontsize=12)\n",
    "plt.ylabel('Frequency', fontsize=12)\n",
    "plt.xticks(rotation='vertical')\n",
    "plt.title(\"Frequency of Classes\", fontsize=15)\n",
    "plt.show()"
   ]
  },
  {
   "cell_type": "code",
   "execution_count": 13,
   "metadata": {
    "scrolled": false
   },
   "outputs": [
    {
     "data": {
      "text/plain": [
       "7    953\n",
       "4    686\n",
       "1    568\n",
       "2    452\n",
       "6    275\n",
       "5    242\n",
       "3     89\n",
       "9     37\n",
       "8     19\n",
       "Name: Class, dtype: int64"
      ]
     },
     "execution_count": 13,
     "metadata": {},
     "output_type": "execute_result"
    }
   ],
   "source": [
    "#First column is Class\n",
    "#Second column is Frequency\n",
    "#All in training variants file\n",
    "data=train_var_df\n",
    "data[\"Class\"].value_counts()      "
   ]
  },
  {
   "cell_type": "code",
   "execution_count": 14,
   "metadata": {},
   "outputs": [
    {
     "data": {
      "text/plain": [
       "count                     3321\n",
       "unique                    2996\n",
       "top       Truncating Mutations\n",
       "freq                        93\n",
       "Name: Variation, dtype: object"
      ]
     },
     "execution_count": 14,
     "metadata": {},
     "output_type": "execute_result"
    }
   ],
   "source": [
    "#print(train_data)\n",
    "train_data['Variation'].describe()"
   ]
  },
  {
   "cell_type": "code",
   "execution_count": 15,
   "metadata": {},
   "outputs": [],
   "source": [
    "#drop columns gene and variation\n",
    "#print(train_data)\n",
    "#train_data.drop(['Gene', 'Variation'], axis=1, inplace=True)\n"
   ]
  },
  {
   "cell_type": "code",
   "execution_count": 16,
   "metadata": {
    "scrolled": true
   },
   "outputs": [
    {
     "name": "stdout",
     "output_type": "stream",
     "text": [
      "Summary:\n",
      "['Previous work has shown that CDK10 silencing increases ETS2 (v-ets erythroblastosis virus E26 oncogene homolog 2)-driven activation of the MAPK pathway, which confers tamoxifen resistance to breast cancer cells.', 'Cyclin M, an orphan cyclin, is the product of FAM58A, whose mutations cause STAR syndrome, a human developmental anomaly whose features include toe syndactyly, telecanthus, and anogenital and renal malformations.', 'ETS2 protein levels are increased in cells derived from a STAR patient, and this increase is attributable to decreased cyclin M levels.', 'They also shed light on the molecular mechanisms underlying STAR syndrome.Cyclin-dependent kinases (CDKs) play a pivotal role in the control of a number of fundamental cellular processes (1).', 'The human genome contains 21 genes encoding proteins that can be considered as members of the CDK family owing to their sequence similarity with bona fide CDKs, those known to be activated by cyclins (2).', 'CDK10 knockdown derepresses ETS2, which increases the expression of the c-Raf protein kinase, activates the MAPK pathway, and induces resistance of MCF7 cells to tamoxifen (6).Here, we deorphanize CDK10 by identifying cyclin M, the product of FAM58A, as a binding partner.', 'Mutations in this gene that predict absence or truncation of cyclin M are associated with STAR syndrome, whose features include toe syndactyly, telecanthus, and anogenital and renal malformations in heterozygous females (10).', 'We show that a recombinant CDK10/cyclin M heterodimer is an active protein kinase that phosphorylates ETS2 in vitro.', 'Cyclin M silencing phenocopies CDK10 silencing in increasing c-Raf and phospho-ERK expression levels and in inducing tamoxifen resistance in estrogen receptor (ER)+ breast cancer cells.', 'Finally, we detect an increased ETS2 expression level in cells derived from a STAR patient, and we demonstrate that it is attributable to the decreased cyclin M expression level observed in these cells.Previous SectionNext SectionResultsA yeast two-hybrid (Y2H) screen unveiled an interaction signal between CDK10 and a mouse protein whose C-terminal half presents a strong sequence homology with the human FAM58A gene product [whose proposed name is cyclin M (11)].', 'The longest CDK10 isoform (P1) expressed as a bait protein produced a strong interaction phenotype with full-length cyclin M (expressed as a prey protein) but no detectable phenotype with cyclin D1, p21 (CIP1), and Cdi1 (KAP), which are known binding partners of other CDKs (Fig. 1B).', 'An interaction phenotype was also observed between full-length cyclin M and CDK10 proteins expressed as bait and prey, respectively (Fig. S1A).', 'We then tested different isoforms of CDK10 and cyclin M originating from alternative gene splicing, and two truncated cyclin M proteins corresponding to the hypothetical products of two mutated FAM58A genes found in STAR syndrome patients (10).', '(D) Western blot analysis of Myc-CDK10 (wt or kd) and CycM-V5-6His expression levels in transfected HEK293 cells.', '(F) Western blot analysis of immunoprecipitates obtained using the anti-CDK10 antibody or a control goat antibody, from human breast cancer MCF7 cells.', 'Another experiment with a longer gel migration is shown in Fig. S1D.Next we examined the ability of CDK10 and cyclin M to interact when expressed in human cells (Fig. 1 D and E).', 'To detect the interaction between endogenous proteins, we performed immunoprecipitations on nontransfected MCF7 cells derived from a human breast cancer.', 'These results confirm the physical interaction between CDK10 and cyclin M in human cells.To unveil a hypothesized CDK10/cyclin M protein kinase activity, we produced GST-CDK10 and StrepII-cyclin M fusion proteins in insect cells, either individually or in combination.', 'Histone H1 phosphorylation was detected only from lysates of cells coexpressing GST-CDK10 and StrepII-cyclin M.', 'Altogether, these observations demonstrate a functional interaction between cyclin M and CDK10, which negatively controls ETS2.Fig. 3.In a new window Download PPTFig. 3.Cyclin M silencing up-regulates c-Raf expression.', '(A) Western blot analysis of endogenous CDK10 and cyclin M expression levels in MCF7 cells, in response to siRNA-mediated gene silencing.', '(B) Western blot analysis of endogenous c-Raf expression levels in MCF7 cells, in response to CDK10 or cyclin M silencing.', 'The silencing of CDK10 and that of cyclin M caused an increase in the expression levels of an exogenously expressed Flag-ETS2 protein (Fig. S4A), as well as of the endogenous ETS2 protein (Fig. 4A).', 'This increase is not attributable to increased ETS2 mRNA levels, which marginally fluctuated in response to CDK10 or cyclin M silencing (Fig. S4B).', 'These observations suggest that endogenous cyclin M levels are in excess compared with those of CDK10 in MCF7 cells, and they show that the major decrease in ETS2 levels observed upon CDK10 coexpression involves CDK10 kinase activity.', 'Treatment of cells coexpressing Flag-ETS2, CDK10, and cyclin M with the proteasome inhibitor MG132 largely rescued Flag-ETS2 expression levels (Fig. 4B).Fig. 4.In a new window Download PPTFig. 4.CDK10/cyclin M controls ETS2 stability in human cancer derived cells.', '(A) Western blot analysis of endogenous ETS2 expression levels in MCF7 cells, in response to siRNA-mediated CDK10 and/or cyclin M silencing.', '(B) Western blot analysis of exogenously expressed Flag-ETS2 protein levels in MCF7 cells cotransfected with empty vectors or coexpressing Myc-CDK10 (wt or kd), or Myc-CDK10/CycM-V5-6His. The latter cells were treated for 16 h with the MG132 proteasome inhibitor.', '(C and D) Western blot analysis of expression levels of exogenously expressed Flag-ETS2 wild-type or mutant proteins in MCF7 cells, in the absence of (C) or in response to (D) Myc-CDK10/CycM-V5-6His expression.', 'As expected from the existence of multiple phosphorylation sites, we detected a small but reproducible, significant decrease of phosphorylation level of ETS2SASA compared with ETS2wt (Fig. S9), thus confirming that Ser220/Ser225 are phosphorylated by CDK10/cyclin M.', 'To establish a direct link between ETS2 phosphorylation by CDK10/cyclin M and degradation, we examined the expression levels of Flag-ETS2SASA.', 'However, contrary to Flag-ETS2 wild type, the expression level of Flag-ETS2SASA remained insensitive to CDK10/cyclin M coexpression (Fig. 4D).', 'Altogether, these results suggest that CDK10/cyclin M directly controls ETS2 degradation through the phosphorylation of these two serines.Finally, we studied a lymphoblastoid cell line derived from a patient with STAR syndrome, bearing FAM58A mutation c.555+1G>A, predicted to result in aberrant splicing (10).', 'In accordance with incomplete skewing of X chromosome inactivation previously found in this patient, we detected a decreased expression level of cyclin M protein in the STAR cell line, compared with a control lymphoblastoid cell line.', 'In line with our preceding observations, we detected an increased expression level of ETS2 protein in the STAR cell line compared with the control (Fig. 5A and Fig. S10A).', 'The STAR cell line showed a decreased expression level of cyclin M mRNA but an expression level of ETS2 mRNA similar to that of the control cell line (Fig. 5B).', 'To demonstrate that the increase in ETS2 protein expression is indeed a result of the decreased cyclin M expression observed in the STAR patient-derived cell line, we expressed cyclin M-V5-6His in this cell line.', 'This expression caused a decrease in ETS2 protein levels (Fig. 5C).Fig. 5.In a new window Download PPTFig. 5.Decreased cyclin M expression in STAR patient-derived cells results in increased ETS2 protein level.', '(A) Western blot analysis of cyclin M and ETS2 protein levels in a STAR patient-derived lymphoblastoid cell line and in a control lymphoblastoid cell line, derived from a healthy individual.', '(C) Western blot analysis of ETS2 protein levels in the STAR patient-derived lymphoblastoid cell line transfected with an empty vector or a vector directing the expression of cyclin M-V5-6His. Another Western blot revealing endogenously and exogenously expressed cyclin M levels is shown in Fig. S10B.', 'A quantification of ETS2 protein levels is shown in Fig. S10C.Previous SectionNext SectionDiscussionIn this work, we unveil the interaction between CDK10, the last orphan CDK discovered in the pregenomic era (2), and cyclin M, the only cyclin associated with a human genetic disease so far, and whose functions remain unknown (10).', 'Both proteins seem to enhance each other’s stability, as judged from their increased expression levels when their partner is exogenously coexpressed (Fig. 1D) and from the much reduced endogenous CDK10 expression level observed in response to cyclin M silencing (Fig. 3A and Fig. S2B).', 'Our Y2H assays reveal that truncated cyclin M proteins corresponding to the hypothetical products of two STAR syndrome-associated FAM58A mutations do not produce an interaction phenotype with CDK10.', 'Hence, regardless of whether these mutated mRNAs undergo nonsense-mediated decay (as suggested from the decreased cyclin M mRNA levels in STAR cells, shown in Fig. 5B) or give rise to truncated cyclin M proteins, females affected by the STAR syndrome must exhibit compromised CDK10/cyclin M kinase activity at least in some tissues and during specific developmental stages.We show that ETS2, a known interactor of CDK10, is a phosphorylation substrate of CDK10/cyclin M in vitro and that CDK10/cyclin M kinase activity positively controls ETS2 degradation by the proteasome.', 'This control seems to be exerted through a very fine mechanism, as judged from the sensitivity of ETS2 levels to partially decreased CDK10 and cyclin M levels, achieved in MCF7 cells and observed in STAR cells, respectively.', 'Second, our results contribute to the understanding of the molecular mechanisms causing tamoxifen resistance associated with reduced CDK10 expression levels, and they suggest that, like CDK10 (6), cyclin M could also be a predictive clinical marker of hormone therapy response of ERα-positive breast cancer patients.', 'The severe growth retardation exhibited by STAR patients strongly suggests that CDK10/cyclin M plays an important role in the control of cell proliferation.Previous SectionNext SectionMaterials and MethodsCloning of CDK10 and cyclin M cDNAs, plasmid constructions, tamoxifen response analysis, quantitative RT-PCR, mass spectrometry experiments, and antibody production are detailed in SI Materials and Methods.Yeast Two-Hybrid Interaction Assays.', 'Next, we carried out genome-wide high-resolution oligonucleotide array comparative genomic hybridization (CGH)5 analysis (Supplementary Methods) of genomic DNA from the most severely affected individual (case 1, with lower lid coloboma, epilepsy and syringomyelia) and identified a heterozygous deletion of 37.9–50.7 kb on Xq28, which removed exons 1 and 2 of FAM58A (Fig. 1i,j).', 'FAM58A contains a cyclin-box-fold domain, a protein-binding domain found in cyclins with a role in cell cycle and transcription control.', 'As the phenotype of our cases overlaps considerably with that of Townes-Brocks syndrome caused by SALL1 mutations1, we carried out co-immunoprecipitation to find out if SALL1 or SALL4 would interact with FAM58A in a manner similar to that observed for SALL4 and cyclin D1.']\n"
     ]
    }
   ],
   "source": [
    "#https://rare-technologies.com/text-summarization-with-gensim/\n",
    "from gensim.summarization import summarize\n",
    "data_id = 0\n",
    "#strictly gets the text from id 0\n",
    "text = train_data.loc[data_id,'Text']\n",
    "#print(text)\n",
    "print ('Summary:')\n",
    "#could set a limit on how many words to return etc.\n",
    "print (summarize(text,split=True))"
   ]
  },
  {
   "cell_type": "raw",
   "metadata": {},
   "source": []
  },
  {
   "cell_type": "code",
   "execution_count": 17,
   "metadata": {},
   "outputs": [
    {
     "name": "stdout",
     "output_type": "stream",
     "text": [
      "Keywords:\n",
      "[cdk-0.39, cell-0.23, ets-0.21, proteins-0.21, gene-0.17]\n"
     ]
    }
   ],
   "source": [
    "#algorithm tries to find words that are important \n",
    "#or seem representative of the entire text\n",
    "from gensim.summarization import keywords\n",
    "#lemmatisation determines the lemma of a word \n",
    "#based on its intended meaning\n",
    "trigger_words = keywords(text,words = 5,scores=True,lemmatize=True, split=True)\n",
    "print (\"Keywords:\")\n",
    "trigger_words =', '.join(['{}-{:.2f}'.format(i, j) for i, j in trigger_words])\n",
    "print (\"[\"+trigger_words+\"]\")\n",
    "\n",
    "\n",
    "\n"
   ]
  },
  {
   "cell_type": "code",
   "execution_count": 18,
   "metadata": {},
   "outputs": [
    {
     "name": "stdout",
     "output_type": "stream",
     "text": [
      "Number of training variants: 3321\n",
      "Number of test variants: 986\n"
     ]
    },
    {
     "data": {
      "text/html": [
       "<div>\n",
       "<style scoped>\n",
       "    .dataframe tbody tr th:only-of-type {\n",
       "        vertical-align: middle;\n",
       "    }\n",
       "\n",
       "    .dataframe tbody tr th {\n",
       "        vertical-align: top;\n",
       "    }\n",
       "\n",
       "    .dataframe thead th {\n",
       "        text-align: right;\n",
       "    }\n",
       "</style>\n",
       "<table border=\"1\" class=\"dataframe\">\n",
       "  <thead>\n",
       "    <tr style=\"text-align: right;\">\n",
       "      <th></th>\n",
       "      <th>ID</th>\n",
       "      <th>Gene</th>\n",
       "      <th>Variation</th>\n",
       "      <th>Text</th>\n",
       "    </tr>\n",
       "  </thead>\n",
       "  <tbody>\n",
       "    <tr>\n",
       "      <th>0</th>\n",
       "      <td>0</td>\n",
       "      <td>FAM58A</td>\n",
       "      <td>Truncating Mutations</td>\n",
       "      <td>Cyclin-dependent kinases (CDKs) regulate a var...</td>\n",
       "    </tr>\n",
       "    <tr>\n",
       "      <th>1</th>\n",
       "      <td>1</td>\n",
       "      <td>CBL</td>\n",
       "      <td>W802*</td>\n",
       "      <td>Abstract Background  Non-small cell lung canc...</td>\n",
       "    </tr>\n",
       "    <tr>\n",
       "      <th>2</th>\n",
       "      <td>2</td>\n",
       "      <td>CBL</td>\n",
       "      <td>Q249E</td>\n",
       "      <td>Abstract Background  Non-small cell lung canc...</td>\n",
       "    </tr>\n",
       "    <tr>\n",
       "      <th>3</th>\n",
       "      <td>3</td>\n",
       "      <td>CBL</td>\n",
       "      <td>N454D</td>\n",
       "      <td>Recent evidence has demonstrated that acquired...</td>\n",
       "    </tr>\n",
       "    <tr>\n",
       "      <th>4</th>\n",
       "      <td>4</td>\n",
       "      <td>CBL</td>\n",
       "      <td>L399V</td>\n",
       "      <td>Oncogenic mutations in the monomeric Casitas B...</td>\n",
       "    </tr>\n",
       "  </tbody>\n",
       "</table>\n",
       "</div>"
      ],
      "text/plain": [
       "   ID    Gene             Variation  \\\n",
       "0   0  FAM58A  Truncating Mutations   \n",
       "1   1     CBL                 W802*   \n",
       "2   2     CBL                 Q249E   \n",
       "3   3     CBL                 N454D   \n",
       "4   4     CBL                 L399V   \n",
       "\n",
       "                                                Text  \n",
       "0  Cyclin-dependent kinases (CDKs) regulate a var...  \n",
       "1   Abstract Background  Non-small cell lung canc...  \n",
       "2   Abstract Background  Non-small cell lung canc...  \n",
       "3  Recent evidence has demonstrated that acquired...  \n",
       "4  Oncogenic mutations in the monomeric Casitas B...  "
      ]
     },
     "execution_count": 18,
     "metadata": {},
     "output_type": "execute_result"
    }
   ],
   "source": [
    "\"\"\" Read Data \"\"\"\n",
    "train_variant = pd.read_csv(\"../input/training_variants\")\n",
    "test_variant = pd.read_csv(\"../input/stage2_test_variants.csv\")\n",
    "train_text = pd.read_csv(\"../input/training_text\", sep=\"\\|\\|\", engine='python', header=None, skiprows=1, names=[\"ID\",\"Text\"])\n",
    "test_text = pd.read_csv(\"../input/stage2_test_text.csv\", sep=\"\\|\\|\", engine='python', header=None, skiprows=1, names=[\"ID\",\"Text\"])\n",
    "train = pd.merge(train_variant, train_text, how='left', on='ID').fillna('')\n",
    "train_y = train['Class'].values\n",
    "train_x = train.drop('Class', axis=1)\n",
    "train_size=len(train_x)\n",
    "print('Number of training variants: %d' % (train_size))\n",
    "# number of train data : 3321\n",
    "\n",
    "#.fillna replaces all nans with ''\n",
    "test_x = pd.merge(test_variant, test_text, how='left', on='ID').fillna('')\n",
    "test_size=len(test_x)\n",
    "print('Number of test variants: %d' % (test_size))\n",
    "# number of test data : 5668\n",
    "\n",
    "test_index = test_x['ID'].values\n",
    "#concatenating all of the data from both training and test\n",
    "all_data = np.concatenate((train_x, test_x), axis=0)\n",
    "all_data = pd.DataFrame(all_data)\n",
    "all_data.columns = [\"ID\", \"Gene\", \"Variation\", \"Text\"]\n",
    "all_data['ID'] = all_data.ID.astype(int)\n",
    "#print (all_data.dtypes)\n",
    "all_data.head()"
   ]
  },
  {
   "cell_type": "code",
   "execution_count": 19,
   "metadata": {},
   "outputs": [],
   "source": [
    "#figure out why there are nan objects?"
   ]
  },
  {
   "cell_type": "code",
   "execution_count": 20,
   "metadata": {
    "scrolled": true
   },
   "outputs": [
    {
     "data": {
      "text/plain": [
       "0    cyclindependent kinases cdks regulate variety ...\n",
       "1    abstract background nonsmall cell lung cancer ...\n",
       "2    abstract background nonsmall cell lung cancer ...\n",
       "3    recent evidence demonstrated acquired uniparen...\n",
       "4    oncogenic mutations monomeric casitas blineage...\n",
       "Name: Text, dtype: object"
      ]
     },
     "execution_count": 20,
     "metadata": {},
     "output_type": "execute_result"
    }
   ],
   "source": [
    "from nltk.corpus import stopwords\n",
    "from gensim.models.doc2vec import TaggedDocument\n",
    "from gensim import utils\n",
    "\n",
    "def constructLabeledSentences(data):\n",
    "    sentences=[]\n",
    "    for index, row in data.iteritems():\n",
    "        sentences.append(TaggedDocument(utils.to_unicode(row).split(), ['Text' + '_%s' % str(index)]))\n",
    "    return sentences\n",
    "\n",
    "def textClean(text):\n",
    "    text = re.sub(r\"[^A-Za-z0-9^,!.\\/'+-=]\", \" \", text)\n",
    "    text = text.lower().split()\n",
    "    stops = set(stopwords.words(\"english\"))\n",
    "    text = [w for w in text if not w in stops]    \n",
    "    text = \" \".join(text)\n",
    "    return(text)\n",
    "    \n",
    "def cleanup(text):\n",
    "    text = textClean(text)\n",
    "    text= text.translate(str.maketrans(\"\",\"\", string.punctuation))\n",
    "    return text\n",
    "\n",
    "# all_data = all_data['Text'].str.decode(\"utf8\")\n",
    "#all_data['Text'] = all_data.Text.astype(str)\n",
    "#print (all_data.dtypes)\n",
    "#allText = textClean(str(all_data['Text'])\n",
    "allText = all_data['Text'].apply(cleanup)\n",
    "#sentences = constructLabeledSentences(allText)\n",
    "allText.head()\n",
    "\n",
    "#taking out stop words, and then we are creating labels and tags  for each one where the tag is\n",
    "#corresponding to the ID #\n"
   ]
  },
  {
   "cell_type": "code",
   "execution_count": 21,
   "metadata": {},
   "outputs": [
    {
     "name": "stdout",
     "output_type": "stream",
     "text": [
      "ID            int64\n",
      "Gene         object\n",
      "Variation    object\n",
      "Class         int64\n",
      "Text         object\n",
      "dtype: object\n"
     ]
    },
    {
     "data": {
      "text/plain": [
       "0    cyclindependent kinases cdks regulate variety ...\n",
       "1    abstract background nonsmall cell lung cancer ...\n",
       "2    abstract background nonsmall cell lung cancer ...\n",
       "3    recent evidence demonstrated acquired uniparen...\n",
       "4    oncogenic mutations monomeric casitas blineage...\n",
       "Name: Text, dtype: object"
      ]
     },
     "execution_count": 21,
     "metadata": {},
     "output_type": "execute_result"
    }
   ],
   "source": [
    "print(train_data.dtypes)\n",
    "alltext = train_data['Text'].apply(cleanup)\n",
    "alltext.head()"
   ]
  },
  {
   "cell_type": "code",
   "execution_count": null,
   "metadata": {},
   "outputs": [
    {
     "data": {
      "text/plain": [
       "TaggedDocument(words=['abstract', 'background', 'nonsmall', 'cell', 'lung', 'cancer', 'nsclc', 'heterogeneous', 'group', 'disorders', 'number', 'genetic', 'proteomic', 'alterations', 'ccbl', 'e3', 'ubiquitin', 'ligase', 'adaptor', 'molecule', 'important', 'normal', 'homeostasis', 'cancer', 'determined', 'genetic', 'variations', 'ccbl', 'relationship', 'receptor', 'tyrosine', 'kinases', 'egfr', 'met', 'functionality', 'nsclc', 'methods', 'findings', 'using', 'archival', 'formalinfixed', 'paraffin', 'embedded', 'ffpe', 'extracted', 'genomic', 'dna', 'show', 'ccbl', 'mutations', 'occur', 'somatic', 'fashion', 'lung', 'cancers', 'ccbl', 'mutations', 'mutually', 'exclusive', 'met', 'egfr', 'mutations', 'however', 'independent', 'p53', 'kras', 'mutations', 'normaltumor', 'pairwise', 'analysis', 'significant', 'loss', 'heterozygosity', 'loh', 'ccbl', 'locus', '22', 'n', '837', 'none', 'samples', 'revealed', 'mutation', 'remaining', 'copy', 'ccbl', 'ccbl', 'loh', 'also', 'positively', 'correlated', 'egfr', 'met', 'mutations', 'observed', 'samples', 'using', 'select', 'ccbl', 'somatic', 'mutations', 's80nh94y', 'q249e', 'w802', 'obtained', 'caucasian', 'taiwanese', 'africanamerican', 'samples', 'respectively', 'transfected', 'nsclc', 'cell', 'lines', 'increased', 'cell', 'viability', 'cell', 'motility', 'conclusions', 'taking', 'overall', 'mutation', 'rate', 'ccbl', 'combination', 'somatic', 'missense', 'mutation', 'loh', 'clear', 'ccbl', 'highly', 'mutated', 'lung', 'cancers', 'may', 'play', 'essential', 'role', 'lung', 'tumorigenesis', 'metastasis', 'go', 'to', 'introduction', 'us', 'alone', 'year', 'approximately', '219400', 'people', 'diagnosed', 'lung', 'cancers', '145000', 'succumb', 'disease', '1', 'number', 'roughly', 'equivalent', 'combined', 'mortality', 'rates', 'cancers', 'breast', 'prostate', 'colon', 'liver', 'kidney', 'melanoma', '1', 'addition', 'prognosis', 'usually', 'poor', 'fiveyear', 'survival', 'rate', 'less', '15', 'also', 'significant', 'ethnic', 'differences', 'lung', 'cancer', 'outcome', 'worse', 'blacks', 'compared', 'whites', 'gender', 'differences', 'also', 'striking', 'women', 'significantly', 'better', 'prognosis', 'compared', 'men', 'number', 'genetic', 'alterations', 'occur', 'lung', 'cancer', 'example', 'nsclc', 'mutations', 'kras', 'p53', 'egfr', 'met', 'identified', 'many', 'pathways', 'especially', 'receptor', 'tyrosine', 'kinases', 'rtks', 'controlled', 'ccbl', 'cbl', 'casitas', 'blineage', 'lymphoma', 'mammalian', 'gene', 'located', 'human', 'chromosome', '11q233', '2', 'involved', 'cell', 'signaling', 'protein', 'ubiquitination', '3', 'cbl', 'proteins', 'belong', 'ring', 'finger', 'class', 'ubiquitin', 'ligases', 'e3', 'three', 'homologues', 'ccbl', 'cblb', 'cbl3', '4', 'ccbl', 'cblb', 'genes', 'ubiquitously', 'expressed', 'highest', 'levels', 'hematopoietic', 'tissues', '5', 'ccbl', 'consists', 'four', 'regions', 'encoding', 'functionally', 'distinct', 'protein', 'domains', 'nterminal', 'tyrosine', 'kinase', 'binding', 'tkb', 'domain', 'linker', 'region', 'catalytic', 'ring', 'finger', 'domain', 'prolinerich', 'region', 'cterminal', 'ubiquitinassociated', 'uba', 'domain', 'also', 'overlaps', 'leucinezipper', 'lz', 'domain', '3', 'tkb', 'ring', 'finger', 'domains', 'essential', 'ligandinduced', 'ubiquitination', 'rtks', '6', '7', '8', '9', 'ring', 'finger', 'domain', 'required', 'recruitment', 'e2', 'ubiquitinconjugating', 'enzymes', 'tkb', 'domain', 'includes', 'fourhelix', 'bundle', '4h', 'calciumbiding', 'ef', 'hand', 'modified', 'sh2', 'domain', 'binds', 'phosphotyrosine', 'residues', '3', '10', '11', '12', 'addition', 'prolinerich', 'region', 'ccbl', 'associate', 'sh3', 'domain', 'grb2', 'indirectly', 'recruit', 'ccbl', 'rtks', 'via', 'grb2', 'adaptor', 'protein', '7', '13', '14', 'ccbl', 'also', 'binds', 'egfr', 'acts', 'e3', 'targets', 'egfr', 'ubiquitination', 'degradation', 'furthermore', 'cbl', 'desensitizes', 'egf', 'signaling', 'opposes', 'cellular', 'proliferation', 'induced', 'egf', '15', 'egf', 'activation', 'also', 'appears', 'activate', 'tyrosine', 'kinase', 'src', 'phosphorylates', 'ccbl', 'turn', 'activates', 'ubiquitination', 'degradation', 'egfr', '16', '17', '18', 'recent', 'study', 'shows', 'defective', 'endocytosis', 'egfr', 'characterized', 'deletion', 'mutant', 'point', 'mutation', 'l858r', 'whereby', 'association', 'ccbl', 'subsequent', 'ubiquitination', 'impaired', '19', 'recently', 'first', 'human', 'ccbl', 'mutations', 'reported', 'acute', 'myeloid', 'leukemia', 'aml', 'patients', '20', 'mutation', 'r420q', 'inhibits', 'fmslike', 'tyrosine', 'kinase', '3', 'flt3', 'internalization', 'ubiquitination', '20', 'e3', 'activity', 'important', 'oncogenesis', 'ccbl', 'dual', 'separate', 'function', 'signal', 'transduction', 'molecule', 'previously', 'shown', 'ccbl', 'important', 'binding', 'crkl', 'bcrabl', 'hematopoietic', 'cells', 'also', 'bind', 'modulate', 'functions', 'cytoskeleton', 'binding', 'proteins', 'like', 'talin', 'paxillin', 'tkb', 'domain', 'important', 'binding', 'number', 'molecules', 'function', 'signal', 'transduction', 'given', 'critical', 'role', 'cbl', 'normal', 'homeostasis', 'cancer', 'hypothesized', 'might', 'mutated', 'lung', 'cancers', 'study', 'report', 'novel', 'ccbl', 'somatic', 'mutations', 's80nh94y', 'q249e', 'w802', 'caucasian', 'taiwanese', 'africanamerican', 'lung', 'cancer', 'patients', 'respectively', 'expressing', 'mutations', 'nsclc', 'cell', 'lines', 'lead', 'increased', 'proliferation', 'cell', 'motility', 'show', 'ccbl', 'mutations', 'occur', 'without', 'met', 'egfr', 'mutations', 'mutually', 'exclusive', 'loh', 'ccbl', 'locus', 'additionally', 'ccbl', 'loh', 'associated', 'either', 'met', 'egfr', 'mutations', 'thus', 'hypothesize', 'ccbl', 'mutations', 'might', 'contribute', 'oncogenic', 'potential', 'met', 'egfr', 'lung', 'cancer', 'go', 'to', 'methods', 'ethics', 'statement', 'written', 'consent', 'research', 'human', 'subjects', 'obtained', 'institutional', 'review', 'board', 'university', 'chicago', 'covers', 'research', 'performed', 'laboratory', 'following', 'contact', 'information', 'institutional', 'review', 'board', 'university', 'chicago', 'mcgiffert', 'hall', '5751', 's', 'woodlawn', 'ave', '2nd', 'floor', 'chicago', 'il', '60637', 'written', 'informed', 'consents', 'received', 'patients', 'whose', 'tissue', 'samples', 'used', 'study', 'tissue', 'samples', 'lung', 'cancer', 'tissue', 'paired', 'adjacent', 'normal', 'lung', 'tissues', 'obtained', '50', 'caucasian', '29', 'africanamericans', '40', 'taiwanese', 'nsclc', 'patients', 'recruited', 'university', 'chicago', 'hospital', 'chicago', 'usa', 'caucasian', 'africanamerican', 'patients', 'taipei', 'veterans', 'general', 'hospital', 'taiwan', 'taiwanese', 'patients', 'obtaining', 'appropriate', 'institutional', 'review', 'board', 'permission', 'informed', 'consent', 'patients', '119', 'samples', '77', 'men', '38', 'women', '4', 'unknown', 'age', 'diagnosis', 'ranging', '47', '90', 'years', 'terms', 'tumor', 'types', '53', 'adenocarcinoma', '32', 'squamous', 'cell', 'carcinoma', '34', 'large', 'cell', 'carcinoma', '49', 'stage', 'i', '14', 'stage', 'ii', '34', 'stage', 'iii', '13', 'stage', 'iv', 'table', 's1', 'cell', 'culture', 'human', 'nonsmall', 'cell', 'lung', 'carcinoma', 'cells', 'a549', 'h358', 'maintained', 'dmem', 'rpmi1640', 'respectively', 'human', 'embryonic', 'kidney', '293t', 'cells', 'cultured', 'dmem', 'media', 'supplemented', '10', 'fetal', 'bovine', 'serum', '100', 'unitsml', 'penicillin', '100', 'gml', 'streptomycin', 'invitrogen', 'carlsbad', 'ca', 'cells', 'cultured', '37', 'c', 'humidified', 'incubator', 'containing', '5', 'co2', 'ccbl', 'gene', 'mutational', 'analysis', 'exons', '2', '16', 'ccbl', 'gene', 'individually', 'amplified', 'polymerase', 'chain', 'reaction', 'pcr', 'primers', 'listed', 'table', 's2', 'pcr', 'conditions', '1', 'cycle', '95', 'c', '5', 'minutes', '35', 'cycles', '94', 'c', '30', 'seconds', '58', 'c', '30', 'seconds', '72', 'c', '2', 'minutes', 'one', 'cycle', '72', 'c', '10', 'minutes', 'pcr', 'products', 'treated', 'exosapit', 'usb', 'corporation', 'cleveland', 'oh', 'sequenced', 'bigdye', 'terminator', 'chemistry', 'applied', 'biosystems', 'foster', 'city', 'ca', 'sequencing', 'performed', 'forward', 'coding', 'strand', 'confirmation', 'ccbl', 'alterations', 'performed', 'sequencing', 'reverse', 'strand', 'well', 'chromatograms', 'analyzed', 'mutations', 'using', 'mutation', 'surveyor', 'v261', 'softgenetics', 'state', 'college', 'pa', 'plasmid', 'constructs', 'sitedirected', 'mutagenesis', 'wildtype', 'ccbl', 'cdna', 'insert', 'subcloned', 'paltermax', 'expression', 'vector', 'using', 'xhoi', 'sali', 'restriction', 'enzyme', 'sites', 'promega', 'madison', 'wi', 'using', 'parental', 'plasmid', 'paltermaxccbl', 'tkb', 'domain', 'double', 'mutation', 's80nh94y', 'point', 'mutation', 'q249e', 'cterminal', 'point', 'mutation', 'w802', 'ccbl', 'created', 'using', 'following', 'primers', '5', 'gctggcgctaaagaataacccaccttatatcttagac3', '5', 'ctaccagatacctaccagtatctccgtactatcttgtc3', 'double', 'mutation', 's80nh94y', '5', 'ctttacccgactctttgagccctggtcctctttgc3', 'q249e', '5', 'cagctcctcctttggctgattgtctctggatggtgatc3', 'w802', 'along', 'complementary', 'primers', 'using', 'quickchange', 'sitedirected', 'mutagenesis', 'xl', 'kit', 'stratagene', 'la', 'jolla', 'ca', 'according', 'manufacturers', 'instructions', 'constructs', 'confirmed', 'point', 'mutations', 'standard', 'dna', 'sequencing', 'strands', 'loss', 'heterozygosity', 'loh', 'analysis', 'five', 'microsatellites', 'chromosome', '11', '3', '11q', 'within', '200', 'kb', 'downstream', 'ccbl', 'gene', '2', 'control', 'markers', '11p', 'selected', 'analysis', 'table', 's3', 'established', 'microsatellite', 'markers', 'respective', 'primer', 'sequences', 'selected', 'geneloc', 'database', 'httpgenecardsweizmannacilgenelocindexshtml', 'weizmann', 'institute', 'science', 'rehovot', 'israel', 'primers', 'custom', 'designed', 'forward', 'primer', 'fluorescently', 'labeled', '5', 'end', 'fam', 'pet', 'ned', 'vic', 'applied', 'biosystems', 'primer', 'annealing', 'temperatures', 'duplex', 'scores', 'evaluated', 'nist', 'primer', 'tools', 'httpyellownistgov8444dnaanalysisprimertoolspagedo', 'national', 'institute', 'standards', 'technology', 'gaithersburg', 'md', 'primers', 'verified', 'performing', 'pcr', 'control', 'dna', 'isolated', 'tk6', 'cells', 'resolving', 'products', 'agarose', 'gels', 'bands', 'visualized', 'uv', 'transilluminator', 'genomic', 'dna', 'extracted', 'tumor', 'samples', 'paired', 'normal', 'lung', 'tissue', 'primers', 'grouped', 'multiplex', 'combinations', 'shown', 'table', 's4', 'marker', 'd11s929', 'served', 'internal', 'control', 'check', 'consistency', 'pcrs', 'peaks', 'capillary', 'electrophoresis', 'multiplex', 'pcrs', 'carried', 'volume', '10', 'l', 'contained', '1', 'l', 'genomic', 'dna', '20', '50', 'ng', '05', 'primer', '10', 'total', 'primer', 'pair', '400', 'dntps', '1x', 'pcr', 'buffer', 'containing', 'mgcl2', '02', 'u', 'taq', 'dna', 'polymerase', 'pcr', 'performed', 'abi', 'geneamp', '9700', 'pcr', 'system', 'following', 'conditions', '5', 'min', '94', 'c', '30', 'cycles', '30', 'sec', '94', 'c', '1', 'min', '60', 'c', '1', 'min', '72', 'c', '5', 'min', '72', 'c', 'pcr', 'products', 'separated', 'capillary', 'electrophoresis', 'abi', '3130xl', 'dna', 'analyzer', 'chromatograms', 'analyzed', 'peak', 'scanner', '10', 'genemapper', '37', 'software', 'applied', 'biosystems', 'allelic', 'alterations', 'area', 'peaks', 'produced', 'dna', 'pcr', 'products', 'quantified', 'allele', 'ratio', 'allelic', 'areas', 'calculated', 'tumor', 'paired', 'normal', 'dna', 'sample', 'qloh', 'allelic', 'ratio', 'tumor', 'peaks', 'divided', 'allelic', 'ratio', 'paired', 'normal', 'sample', '05', '20', 'ccbl', 'least', 'one', '11q', 'marker', 'least', 'two', 'separate', 'experiments', 'sample', 'considered', 'allelic', 'imbalance', 'interpreted', 'loh', 'samples', 'evaluated', 'least', 'two', 'separate', 'experiments', 'samples', 'showing', 'prospective', 'loh', 'ccbl', 'repeated', 'third', 'time', 'included', 'new', 'control', 'marker', 'bax', 'locus', 'data', 'shown', 'chromosome', '19', 'verify', 'integrity', 'sample', 'dna', 'transfection', 'ccbl', 'constructs', 'a549', 'cell', 'line', 'transfected', 'using', 'fugene', 'hd', 'roche', 'nutley', 'nj', 'reagent', 'according', 'manufacturers', 'instructions', 'eight', 'g', 'plasmid', 'dna', 'containing', 'either', 'insert', 'empty', 'vector', 'wildtype', 'ccbl', 's80nh94y', 'ccbl', 'q249e', 'ccbl', 'w802', 'cbl', 'used', 'transfection', '6well', 'culture', 'plate', 'cells', 'harvested', '48', 'h', 'transfection', 'analyzed', 'expression', 'ccbl', 'knockdown', 'ccbl', 'knockdown', 'performed', 'using', 'lentiviral', 'transduction', 'using', 'mission', 'lentiviral', 'transduction', 'particles', 'sigmaaldrich', 'st', 'louis', 'mo', 'per', 'manufacturers', 'instructions', 'briefly', '1', '105', 'h358', 'cellswell', 'seeded', '6well', 'plates', 'infected', 'following', 'day', 'ccbl', 'lentiviral', 'shrna', 'constructs', 'generate', 'stable', 'ccbl', 'knockdown', 'cell', 'lines', 'cells', 'selected', '2', 'days', '1', 'gml', 'puromycin', 'ccbl', 'levels', 'determined', 'using', 'whole', 'cell', 'lysates', 'immunoblotting', 'anticbl', 'antibody', 'santa', 'cruz', 'biotechnologies', 'santa', 'cruz', 'ca', 'cell', 'viability', 'assay', 'cells', 'transfected', 'described', 'transfection', 'assay', 'fortyeight', 'hours', 'transfection', 'viability', 'cells', 'assessed', 'using', 'trypan', 'blue', 'exclusion', 'wound', 'healing', 'assay', 'a549', 'cells', 'seeded', '6well', 'plates', 'cultured', '48', 'h', '100', 'confluent', 'medium', 'changed', 'cells', 'transfected', 'described', 'transfection', 'assay', 'twelve', 'hours', 'transfection', 'straight', 'scratch', 'made', 'across', 'cell', 'layer', 'using', '1', 'ml', 'pipette', 'tip', 'cells', 'gently', 'washed', '1', 'pbs', 'remove', 'cellular', 'debris', 'media', 'replaced', 'photographs', 'taken', 'wound', 'region', 'every', '12', 'h', '48', 'h', 'western', 'blot', 'analysis', 'forty', 'eight', 'hours', 'transfection', 'cells', 'collected', 'washed', 'twice', '1x', 'pbs', 'lysed', 'icecold', 'lysis', 'buffer', '05m', 'trishcl', 'ph', '74', '15', 'nacl', '25', 'deoxycholic', 'acid', '10', 'mm', 'edta', '10', 'np40', '05', 'mm', 'dtt', '1', 'mm', 'phenylmethylsulfonyl', 'fluoride', '5', 'gml', 'leupeptin', '10', 'gml', 'aprotinin', '5', 'minutes', 'lysate', 'centrifuged', '13000', 'rpm', '20', 'minutes', '4', 'c', 'protein', 'content', 'supernatant', 'measured', 'total', 'cell', 'lysates', '50', 'gwell', 'separated', 'sdspage', 'electrophoresis', 'gels', 'transferred', 'onto', 'nitrocellulose', 'membranes', 'whatman', 'piscataway', 'nj', 'membranes', 'blocked', '5', 'nonfat', 'dry', 'milk', 'phosphatebuffered', 'saline', 'containing', 'tween20', 'pbst', '1x', 'pbs', '01', 'tween20', '1', 'h', 'room', 'temperature', 'incubated', 'appropriate', 'primary', 'antibody', '4', 'c', 'overnight', 'membranes', 'washed', 'three', 'times', 'pbst', 'probed', 'appropriate', 'horseradish', 'peroxidase', 'hrp', 'conjugated', 'secondary', 'antibody', '1', 'h', 'room', 'temperature', 'membranes', 'washed', 'three', 'times', 'pbst', 'bands', 'visualized', 'using', 'western', 'blot', 'chemiluminescence', 'reagent', 'biorad', 'valencia', 'ca', 'chemidoc', 'gel', 'documentation', 'system', 'biorad', 'valencia', 'ca', 'antibodies', 'obtained', 'santa', 'cruz', 'biotechnologies', 'used', 'following', 'dilutions', 'ccbl', '1', '5000', 'cmet', '1', '5000', 'egfr', '1', '5000', 'ubiquitin', '1', '1000', 'ha', '1', '5000', 'actin', '1', '10000', 'flow', 'cytometry', 'cell', 'cycle', 'analysis', 'carried', 'flow', 'cytometry', 'approximately', '2', '106', 'cells', 'grown', 'media', 'containing', '10', 'fbs', 'cells', 'harvested', 'trypsinedta', 'treatment', 'washed', '1x', 'pbs', 'three', 'times', 'fixed', 'icecold', '70', 'ethanol', '2', 'h', 'cells', 'washed', 'cold', 'pbs', 'stained', 'solution', 'containing', '25', 'gml', 'propidium', 'iodide', '200', 'gml', 'rnase', 'a', '01', 'triton', 'x100', '30', 'minutes', 'dark', 'cell', 'cycle', 'analysis', 'performed', 'using', 'guava', 'pca96', 'flow', 'cytometer', 'guava', 'technologies', 'millipore', 'billerica', 'ubiquitin', 'ligase', 'activity', '293t', 'cells', 'maintained', 'culture', 'dmem', 'supplemented', '10', 'fbs', '1', 'penicillin', '100', 'unitsml', 'streptomycin', '100', 'gml', 'transfected', '02', 'g', 'egfrpcdna3', '2', 'g', 'hatagged', 'ccbl', 'constructs', 'indicated', 'using', 'calcium', 'phosphate', 'according', 'manufacturers', 'protocol', 'profection', 'promega', 'madison', 'wi', 'twentyfour', 'hours', 'posttransfection', 'cells', 'starved', 'overnight', 'dmem', 'supplemented', '05', 'fbs', 'treated', 'without', 'egf', '100', 'ngml', '15', 'min', 'cells', 'collected', 'washed', 'two', 'times', 'icecold', 'pbs', 'containing', '02', 'mm', 'sodium', 'orthovanadate', 'lysed', 'icecold', 'lysis', 'buffer', '10', 'mm', 'tris', 'hcl', 'ph', '75', '150', 'mm', 'nacl', '5', 'mm', 'edta', '1', 'triton', 'x100', '10', 'glycerol', '2', 'mm', 'sodium', 'orthovanadate', 'protease', 'inhibitors', 'lysates', 'cleared', 'debris', 'centrifugation', '16000', 'g', '10', 'min', '4', 'c', 'egfr', 'immunoprecipitations', 'performed', '200', 'g', 'cleared', 'lysate', 'using', '250', 'ng', 'rabbitantiegfr', 'protein', 'ag', 'plus', 'sepharose', 'overnight', '4', 'c', 'precipitations', 'washed', '5', 'times', 'lysis', 'buffer', 'boiling', 'laemmli', 'buffer', 'elutions', 'immunoblotted', 'antiubiquitin', 'egfr', 'twenty', 'micrograms', 'cleared', 'lysate', 'immunoblotted', 'ccbl', 'constructs', 'using', 'antiha', 'statistical', 'analysis', 'mutation', 'rates', 'different', 'groups', 'compared', 'using', 'fishers', 'exact', 'test', 'continuous', 'variables', 'group', 'comparisons', 'performed', 'using', 'analysis', 'variance', 'anova', 'followed', 'sidaks', 'adjustment', 'multiple', 'comparisons', 'experiments', 'involving', 'repeated', 'measurements', 'time', 'analyzed', 'using', 'repeated', 'measures', 'anova', 'greenhousegeisser', 'adjustment', 'degrees', 'freedom', 'analyses', 'conducted', 'using', 'stata', 'v101', 'software', 'stata', 'corporation', 'college', 'station', 'tx', 'go', 'to', 'results', 'ccbl', 'gene', 'mutations', 'lung', 'cancer', 'investigate', 'role', 'ccbl', 'lung', 'cancer', 'analyzed', 'genomic', 'dna', 'tumor', 'paired', 'normal', 'samples', 'drawn', 'multiple', 'ethnicities', 'lung', 'tumor', 'samples', 'represented', 'caucasians', 'n', '50', 'africanamericans', 'n', '29', 'taiwanese', 'n', '40', 'lung', 'cancer', 'patients', 'designed', '12', 'pairs', 'primers', 'sequence', 'coding', 'region', 'ccbl', 'gene', 'spans', 'exons', '2', '16', 'table', 's2', 'identified', '8', 'unique', 'somatic', 'mutations', 'ccbl', 'exons', 'among', '8', 'different', 'patients', 'variation', 'l620f', 'known', 'snp', 'rs2227988', 'exon', '11', 'also', 'detected', 'importantly', 'eight', 'novel', 'nonsynonymous', 'mutations', 'confirmed', 'sequencing', 'strands', 'ccbl', 'genomic', 'dna', 'obtained', 'lung', 'tumor', 'samples', 'table', '1', 'moreover', 'none', '8', 'mutations', 'detected', 'corresponding', 'normal', 'tissue', 'indicating', 'somatic', 'mutations', 'four', 'synonymous', 'single', 'nucleotide', 'variations', 'snvs', 'also', 'identified', 'used', 'study', 'table', '1', 'table', '1', 'ccbl', 'mutation', 'analysis', '119', 'lung', 'cancer', 'patient', 'tumor', 'tissues', 'three', '8', 'novel', 'nonsynonymous', 'mutations', 'located', 'tkb', 'tyrosine', 'kinase', 'binding', 'domain', 's80n', 'h94y', 'q249e', 'one', 'ring', 'finger', 'domain', 'v391i', 'one', 'prolinerich', 'region', '72515', '72517', 'del', 'atg', 'three', 'cterminal', 'region', 'w802', 'r830k', 'a848t', 'ccbl', 'protein', 'figure', '1a', 'figure', 's1', 'figure', '1b', 'show', 'model', 'chromatograms', 'representative', 'samples', 'figure', '1', 'figure', '1', 'ccbl', 'mutations', 'loh', 'nonsmall', 'cell', 'lung', 'cancer', '11q', 'loh', 'ccbl', 'gene', 'paired', 'lung', 'tumor', 'normal', 'lung', 'tissue', 'samples', 'taiwanese', 'patients', 'n', '37', 'investigated', 'loh', 'eight', '216', 'showed', 'loh', 'ccbl', 'locus', 'chromosome', '11', '29', 'samples', '784', 'revealed', 'normal', 'allelic', 'contribution', 'microsatellite', 'markers', 'figures', '1c', 'ccbl', 'mutations', 'different', 'ethnic', 'groups', 'ccbl', 'double', 'mutant', 's80nh94y', 'found', 'patient', 'overall', 'mutation', 'rate', 'ccbl', 'lung', 'tumors', '67', '8119', 'frequency', 'ccbl', 'mutation', 'highest', 'large', 'cell', 'carcinoma', '147', '5', '34', 'patients', 'followed', 'squamous', 'carcinoma', '63', '2', '32', 'patients', 'least', 'observed', 'adenocarcinoma', 'ad', '18', '1', '53', 'patients', 'although', 'rates', 'statistically', 'significant', 'p', '0292', 'mutation', 'rates', '60', 'among', 'caucasians', '0', '20', 'ad', '0', '10', 'sq', '3', '20', 'lc', '138', 'africanamericans', '1', '10', 'ad', '1', '10', 'sq', '2', '9', 'lc', '25', '0', '23', 'ad', '1', '12', 'sq', '0', '5', 'lc', 'taiwanese', 'population', 'additionally', 'two', 'taiwanese', 'patients', 'lung', 'cancer', 'one', 'squamous', 'one', 'adenocarcinoma', 'known', 'snp', 'l620f', 'ethnic', 'differences', 'statistically', 'significant', 'however', 'power', 'detect', 'differences', 'low', 'mutations', 'met', 'egfr', 'coassociated', 'ccbl', 'alterations', 'since', 'east', 'asians', 'lung', 'cancer', 'higher', 'frequency', 'egfr', 'met', 'mutations', 'lung', 'tumors', '21', '22', 'also', 'determined', 'mutations', 'egfr', 'met', 'taiwanese', 'cohort', 'samples', 'compared', 'results', 'observed', 'ccbl', 'alterations', 'loh', 'andor', 'mutations', '37', 'samples', 'tested', 'find', 'overlap', 'ccbl', 'mutations', 'ccbl', 'loh', 'figure', '2', 'three', 'ccbl', 'mutants', 'including', 'known', 'l620f', 'snp', 'rs2227988', 'one', 'samples', 'met', 'mutation', 'n375s', 'egfr', 'mutation', 'l858r', 'among', '8', 'samples', 'loh', 'ccbl', 'locus', '5', 'additional', 'mutation', 'met', 'n375s', '2', 'egfr', 'exon', '19', 'deletion', 'twentysix', 'samples', 'neither', 'ccbl', 'mutation', 'ccbl', 'loh', '3', 'patients', 'ccbl', 'mutation', 'ccbl', 'loh', 'among', '26', 'samples', '9', 'met', 'mutation', '8', 'n375s', '1', 'l211w', '13', 'egfr', 'mutation', '7', 'exon', '9', 'deletion', '6', 'l858r', '4', 'met', 'egfr', 'mutation', 'thus', 'rate', 'met', 'egfr', 'mutations', 'among', 'patients', 'loh', 'ccbl', 'locus', '7', '8', 'similar', 'seen', 'patients', 'without', 'ccbl', 'mutation', 'loh', '22', '26', 'patients', 'p', '099', '4', 'patients', 'identifiable', 'mutation', 'ccbl', 'met', 'egfr', 'represented', '108', '37', 'patients', 'analyzed', 'taiwanese', 'patient', 'cohort', 'conversely', '892', 'taiwanese', 'lung', 'cancer', 'patients', 'identifiable', 'mutation', 'either', 'ccbl', 'met', 'egfr', 'combination', 'three', 'genes', 'figure', '2', 'additionally', 'determined', 'p53', 'kras', 'mutations', 'taiwanese', 'cohorts', 'two', 'p53', '1', 'kras', 'mutation', 'detected', 'single', 'kras', 'mutation', 'overlapped', 'one', 'p53', 'mutation', 'patient', 'also', 'egfr', 'exon', '19', 'deletion', 'ccbl', 'mutation', 'p53', 'mutation', 'sample', 'ccbl', 'loh', 'concurrent', 'met', 'n375s', 'mutation', 'thus', 'taiwanese', 'samples', 'analyzed', 'p53kras', 'mutations', 'ccbl', 'mutations', 'mutually', 'exclusive', 'data', 'shown', 'figure', '2', 'figure', '2', 'ccbl', 'mutations', 'relationship', 'met', 'egfr', 'mutations', 'lung', 'cancer', 'cellular', 'functions', 'ccbl', 'alterations', 'context', 'lung', 'tumorigenesis', 'a', 'e3', 'activity', 'intact', 'mutant', 'ccbl', 'proteins', 'investigate', 'whether', 'different', 'ccbl', 'mutations', 'affect', 'e3', 'activity', 'egfr', 'chosen', 'model', 'substrate', 'ccbl', 'e3', 'function', 'ccbl', 'mutants', 'tested', 'enhanced', 'ubiquitination', 'activated', 'egfr', 'similar', 'wildtype', 'ccbl', 'protein', 'result', 'demonstrates', 'catalytic', 'activity', 'ccbl', 'mutants', 'impaired', 'egfr', 'substrate', 'figure', '3a', 'figure', '3', 'figure', '3', 'ubiquitination', 'viability', 'expression', 'cell', 'cycle', 'analysis', 'various', 'ccbl', 'mutants', 'b', 'effect', 'lung', 'cancer', 'cell', 'viability', 'effect', 'representative', 'ccbl', 'mutant', 'three', 'ethnic', 'backgrounds', 'lung', 'cancer', 'cell', 'viability', 'cell', 'lines', 'determined', 's80nh94y', 'double', 'mutation', 'q249e', 'w802', 'identified', 'lung', 'tumor', 'samples', 'obtained', 'caucasian', 'taiwanese', 'africanamerican', 'respectively', 'described', 'methods', 'ccbl', 'wildtype', 'wt', 'three', 'mutants', 'expressed', 'cloning', 'paltermax', 'vector', 'a549', 'cells', 'cells', 'express', 'relatively', 'low', 'basal', 'levels', 'endogenous', 'ccbl', 'data', 'shown', 'transfection', 'efficiency', 'comparable', 'different', 'groups', 'number', 'cells', 'transfected', 'ccbl', 'wildtype', 'construct', '70', 'compared', 'control', 'cells', 'transfected', 'empty', 'vector', 'cells', 'transfected', 's80nh94y', 'q249e', 'w802', 'ccbl', 'mutant', 'constructs', 'resulted', 'increased', 'number', 'viable', 'cells', '1323', '1208', '1479', 'higher', 'respectively', 'relative', 'empty', 'vector', 'control', 'transfected', 'cells', 'significantly', 'different', 'wildtype', 'construct', 'p', '0022', 'p', '0049', 'p', '0008', 'respectively', 'figure', '3b', 'relative', 'levels', 'ccbl', 'protein', 'whole', 'cell', 'lysates', 'prepared', 'samples', 'obtained', 'parallel', 'experiment', 'determined', 'ccbl', 'protein', 'levels', 'samples', 'representing', 'untransfected', 'empty', 'vector', 'transfected', 'cells', 'comparable', 'representing', 'ccbl', 'wt', 'three', 'ccbl', 'mutants', 'comparable', 'figure', '3c', 'c', 'effect', 'cell', 'cycle', 'investigate', 'increases', 'cell', 'viability', 'different', 'ccbl', 'mutants', 'due', 'increased', 'cellular', 'proliferation', 'cell', 'cycle', 'analysis', 'performed', 'a549', 'cells', 'transfected', 'ccbl', 'wt', 'three', 'different', 'mutants', 's80nh94y', 'q249e', 'w802', 'empty', 'vector', 'transfectant', 'used', 'control', 'fortyeight', 'hours', 'transfection', 'cell', 'cycle', 'analysis', 'performed', 'described', 'materials', 'methods', 'significant', 'change', 'subg1', 'g1', 'phase', 'cell', 'cycle', 'among', 'different', 'mutants', 'compared', 'wt', 'construct', 'p', '064', 'p', '040', 'p', '028', 'respectively', 'g2m', 'phase', 'cell', 'cycle', 'showed', 'increase', 'cell', 'numbers', 'three', 'mutants', 's80nh94y', 'q249e', 'w802', 'compared', 'wt', 'difference', 'statistically', 'significant', 'p', '025', 'figure', '3d', 'd', 'effect', 'cell', 'motility', 'investigate', 'effect', 'expression', 'three', 'ccbl', 'mutants', 'cell', 'migration', 'carried', 'wound', 'healing', 'assay', 'described', 'materials', 'methods', 'closing', 'scratch', 'wound', 'monitored', '0', '12', '24', '36', '48', 'h', 'figure', '4a', 'samples', 'represented', 'cells', 'transfected', 'mutants', 'wound', 'gap', 'much', 'smaller', 'seen', 'sample', 'represented', 'cells', 'transfected', 'ccbl', 'wt', 'p0001', 'also', 'determined', 'rate', 'wound', 'closure', 'five', 'groups', '48', 'h', 'wildtype', 'ccbl', 'transfectants', 'showed', '611', 'open', 'wound', 's80nh94y', 'q249e', 'w802', 'mutants', 'showed', '187', '239', '343', 'open', 'wound', 'respectively', 'p0001', 'figure', '4b', 'figure', '4', 'figure', '4', 'ccbl', 'mutations', 'affect', 'wound', 'healing', 'a549', 'cells', 'e', 'ccbl', 'knockdown', 'increases', 'cell', 'viability', 'hypothesized', 'loh', 'seen', 'samples', 'could', 'lead', 'decreased', 'expression', 'ccbl', 'thus', 'tested', 'effect', 'ccbl', 'knockdown', 'lung', 'cancer', 'cells', 'compared', 'a549', 'h358', 'lung', 'cancer', 'cells', 'express', 'relatively', 'high', 'levels', 'endogenous', 'ccbl', 'data', 'shown', 'ccbl', 'expression', 'knocked', 'using', 'lentiviral', 'construct', 'expressed', 'ccbl', 'specific', 'shrna', 'compared', 'results', 'transduced', 'scrambled', 'shrna', 'results', 'shown', 'figure', '5', 'identified', 'several', 'clones', 'revealed', 'varying', 'degrees', 'ccbl', 'knockdown', 'showing', 'different', 'sets', 'ccbl', 'lentiviral', 'shrna', 'knockdown', 'efficiency', 'figure', '5a', 'clones', 'tested', 'clone', '27', 'chosen', 'experiments', 'equal', 'amount', 'cells', 'seeded', '6well', 'plate', 'cell', 'proliferation', 'measured', 'various', 'times', 'results', 'depicted', 'figure', '5b', 'expected', 'number', 'cells', 'increased', 'time', 'dependent', 'fashion', '100', '190', 'relative', 'scrambled', 'shrna', 'control', 'span', '48', 'h', 'p', '00002', 'figure', '5b', 'cell', 'cycle', 'phases', 'h358', 'cells', 'knocked', 'ccbl', 'shrna', 'looked', 'compared', 'scrambled', 'shrna', 'discernable', 'differences', 'two', 'constructs', 'different', 'phases', 'cell', 'cycle', 'data', 'shown', 'figure', '5', 'figure', '5', 'knockdown', 'ccbl', 'using', 'shrna', 'increases', 'cell', 'proliferation', 'go', 'to', 'discussion', 'results', 'demonstrate', 'ccbl', 'somatically', 'mutated', 'loh', 'lung', 'cancers', 'significantly', 'contribute', 'enhanced', 'cell', 'viability', 'motility', 'also', 'high', 'prevalence', 'loh', 'respect', 'ccbl', 'lung', 'tumors', 'harbored', 'met', 'egfr', 'mutation', 'present', 'study', 'demonstrated', 'occurrence', 'ccbl', 'mutations', 'lung', 'cancer', 'patients', 'especially', 'different', 'ancestral', 'variations', 'mutations', 'ccbl', 'recently', 'reported', 'juvenile', 'myelomonocytic', 'leukemia', 'myeloid', 'malignancies', 'aml', 'study', 'mutation', 'r420q', 'located', 'junction', 'ring', 'finger', 'linker', 'region', 'inhibited', 'fmslike', 'tyrosine', 'kinase', '3', 'flt3', 'internalization', 'ubiquitination', '20', 'thus', 'contributing', 'gaininfunction', 'rtk', 'addition', 'mutations', 'h398y', 'c384r', 'l380p', 'mapped', 'ring', 'finger', 'domain', 'linker', 'region', 'ccbl', 'required', 'e3', 'activity', '23', '24', '25', '26', '27', 'additionally', 'homozygous', 'mutations', 'ring', 'finger', 'domain', 'ccbl', 'gene', 'described', 'result', 'acquired', 'uniparental', 'disomy', 'upd', '26', 'important', 'note', 'results', 'indicate', 'loh', '11q23', 'locus', 'mutually', 'exclusive', 'missense', 'mutations', 'ccbl', 'somatic', 'mutations', 'heterozygous', 'mutations', 'aml', 'led', 'abrogation', 'e3', 'activity', 'leading', 'prolonged', 'rtk', 'activation', 'addition', 'mutants', 'located', 'linker', 'region', 'surrounding', 'ring', 'finger', 'domain', 'exhibited', 'enhanced', 'akt', 'signaling', 'response', 'cytokine', 'stimulation', '26', 'addition', 'shown', 'nh3t3', 'cells', 'neither', 'mutations', 'ring', 'finger', 'linker', 'region', 'causes', 'transformation', 'however', 'certain', 'mutations', 'perturbs', 'ubiquitination', 'others', 'affect', 'receptor', 'recycling', 'prolong', 'kinase', 'activity', '28', 'report', 'ccbl', 'mutations', 'mapped', 'ring', 'finger', 'domain', 'also', 'tkb', 'domain', 'prolinerich', 'domain', 'cterminal', 'region', 'none', 'mapped', 'linker', 'region', 'reported', 'aml', 'studies', 'described', '23', '24', '25', '26', '29', 'addition', '8', 'mutants', 'detected', 'found', 'different', 'ethnic', 'backgrounds', 'example', 's80nh94y', 'q249e', 'w802', 'detected', 'caucasians', 'taiwanese', 'africanamericans', 'respectively', 'results', 'point', 'difference', 'lung', 'cancer', 'cancers', 'also', 'genetic', 'polymorphism', 'among', 'different', 'races', 'cancer', 'interestingly', 'large', 'disparity', 'africanamerican', 'ethnic', 'populations', 'lung', 'cancer', '30', 'previously', 'shown', 'low', 'frequency', 'egfr', 'met', 'mutation', 'africanamericans', 'compared', 'taiwanese', 'caucasians', '31', 'study', 'number', 'africanamerican', 'samples', 'analyzed', 'relatively', 'fewer', 'found', '3', 'mutations', 'unique', 'ethnicity', 'would', 'behoove', 'us', 'study', 'genetic', 'alterations', 'occur', 'determine', 'targeted', 'therapeutics', 'africanamericans', 'results', 'provide', 'evidence', 'importance', 'ccbl', 'tumorigenesis', 'potential', 'signaling', 'prediction', 'based', 'aml', 'data', 'would', 'v391i', 'ring', 'finger', 'domain', 'mutation', 'would', 'affect', 'e3', 'activity', 'also', 'important', 'determine', 'binding', 'partners', 'ccbl', 'tkb', 'domain', 'proline', 'rich', 'domain', 'mutations', 'previously', 'shown', 'tkb', 'domain', 'bind', 'growth', 'factor', 'receptors', 'important', 'determine', 'crossbinding', 'mutants', 'met', 'egfr', 'would', 'also', 'important', 'future', 'look', 'fluorescence', 'situ', 'hybridizationcopy', 'number', 'changes', 'ccbl', 'lung', 'cancer', 'ccbl', 'plays', 'important', 'role', 'regulating', 'rtkmediated', 'signaling', 'k63', 'polyubiquitination', 'subsequent', 'downregulation', 'rtks', 'followed', 'lysosomal', 'degredation', '3', 'monoubiquitination', 'ubiquitinated', 'k63linked', 'chains', 'substrates', 'ccbl', 'may', 'lead', 'enhancement', 'biological', 'biochemical', 'functions', 'reviewed', 'hermann', 'et', 'al', '2007', '32', 'mutations', 'analyzed', 'studies', 'point', 'fact', 'e3', 'activity', 'ccbl', 'egfr', 'intact', 'egfr', 'levels', 'various', 'mutants', 'remain', 'figure', 's2', 'multiple', 'kinases', 'rtks', 'nonrtks', 'could', 'acted', 'upon', 'ccbl', 'including', 'erbs', 'pdgfr', 'fms', 'met', 'ckit', 'vegfr', 'flt1', 'ron', 'fgfr', 'ir', 'well', 'syk', 'fyn', 'lck', 'fgr', 'lyn', 'cabl', '3', 'lung', 'cancers', 'relevant', 'substrates', 'ccbl', 'terms', 'degradation', 'signal', 'transduction', 'yet', 'identified', 'observation', 'ccbl', 'somatic', 'mutations', 'especially', 's80nh94y', 'q249e', 'w802', 'showed', 'increased', 'cell', 'viability', 'cell', 'motility', 'agreement', 'physiological', 'role', 'dcbl', 'regulation', 'apoptosis', 'differentiation', 'identified', 'drosophila', 'significant', '33', 'previously', 'shown', 'activating', 'ccbl', 'mutation', 'downregulates', 'egfr', 'signaling', 'decreases', 'cellular', 'proliferation', 'migration', 'breast', 'cancer', 'cell', 'lines', '34', 'although', 'role', 'ccbl', 'negative', 'regulation', 'rtks', 'well', 'substantiated', 'thereby', 'suggesting', 'natural', 'tumor', 'suppressor', 'studies', 'cancer', 'cells', 'revealed', 'tumor', 'suppressor', 'tumor', 'promoting', 'activities', 'depending', 'type', 'ccbl', 'mutation', 'number', 'alleles', 'ccbl', 'locus', '24', 'agreement', 'above', 'three', 'ccbl', 'mutants', 'described', 'appear', 'tumor', 'growth', 'metastasis', 'promoting', 'properties', 'although', 'mutants', 'outside', 'ring', 'finger', 'linker', 'region', 'ccbl', 'downstream', 'effects', 'significant', 'cause', 'increased', 'proliferation', 'migration', 'substrate', 'affected', 'mutations', 'known', 'yet', 'raises', 'possibility', 'cellular', 'functions', 'ccbl', 'independent', 'ubiquitinligase', 'activity', 'area', 'currently', 'investigating', 'oncogenic', 'nature', 'rtks', 'addiction', 'cancers', 'growth', 'signals', 'given', 'clustering', 'ccbl', 'egfr', 'met', 'mutations', 'possible', 'transforming', 'effect', 'ccbl', 'mutations', 'likely', 'combinatorial', 'effect', 'three', 'also', 'show', 'loh', 'ccbl', 'found', 'significant', 'number', 'samples', 'harbored', 'met', 'egfr', 'mutations', 'fact', '7', 'lung', 'tumor', 'samples', 'likely', 'ccbl', 'mutations', 'additional', '22', 'likely', 'harbor', 'ccblrelated', 'loh', 'makes', 'ccbl', 'highly', 'mutated', 'molecule', 'lung', 'cancer', 'since', 'loh', 'alone', 'enough', 'cause', 'transforming', 'event', '35', '36', '37', 'associated', 'mutation', 'met', 'egfr', 'locus', 'yet', 'another', 'rtk', 'discussed', 'may', 'play', 'role', 'carcinogenesis', 'predict', 'loh', 'ccbl', 'results', 'haploinsufficiency', 'downplays', 'rtk', 'ubiquitination', 'leading', 'hyperactivity', 'rtks', 'however', 'whether', 'sufficient', 'cause', 'tumorigenesis', 'remains', 'determined', 'consistent', 'hypothesis', 'fact', 'ccbl', 'mice', 'increased', 'kinase', 'activity', 'lymphocytes', 'sufficient', 'tumor', 'formation', '35', '36', '37', 'ccbl', 'loh', 'could', 'also', 'lead', 'increased', 'expression', 'ccbl', 'allele', 'compensate', 'loss', 'allele', 'alternately', 'could', 'form', 'synergy', 'working', 'reduced', 'ccbl', 'levels', 'mutated', 'receptors', 'exacerbate', 'phenotype', 'alone', 'previous', 'studies', 'lab', 'others', 'shown', 'east', 'asians', 'lung', 'cancers', 'relatively', 'high', 'frequencies', 'gainoffunction', 'mutations', 'rtks', 'egfr', 'met', '31', 'cohort', 'japanese', 'patients', 'activating', 'met', 'mutation', 'identified', 'splice', 'region', 'deletes', 'juxtamembrane', 'domain', 'involved', 'e3', 'activity', 'ccbl', '38', 'study', 'also', 'found', 'activation', 'met', 'mutually', 'exclusive', 'egfr', 'kras', 'her2', 'gene', 'mutations', '38', 'failed', 'detect', 'mutations', 'significant', 'numbers', 'lung', 'tumor', 'samples', 'obtained', 'africanamericans', 'n', '29', 'caucasian', 'n', '50', 'patients', 'one', 'met', 'mutation', 'identified', 'groups', 'whereas', '1', '3', 'egfr', 'mutations', 'identified', 'africanamerican', 'caucasian', 'cohorts', 'respectively', 'egfr', 'mutations', 'earlier', 'identified', 'one', 'key', 'mutations', 'affecting', 'lung', 'adenocarcinoma', 'patients', 'comprehensive', 'study', '188', 'patients', '39', 'study', 'encompasses', 'different', 'histologies', 'nsclc', 'however', 'published', 'series', 'find', 'mutations', 'ccbl', 'met', 'unlike', 'study', 'encompassed', 'different', 'subtypes', 'nsclc', 'important', 'note', 'recently', 'shown', 'met', 'mutations', 'lung', 'cancer', 'majority', 'germline', '31', 'reported', 'earlier', 'ccbl', 'mutations', 'small', 'cohort', 'taiwanese', 'lung', 'cancer', 'samples', '40', 'efforts', 'understand', 'ethnic', 'differences', 'lung', 'oncogenome', 'also', 'looked', 'pax', 'transcription', 'factors', 'pax5', 'pax8', 'highly', 'expressed', 'lung', 'cancers', 'however', 'preferential', 'expression', 'mutations', 'genes', 'lung', 'tumor', 'samples', 'africanamericans', 'study', 'show', 'relatively', 'high', 'frequency', 'ccbl', 'mutations', 'lung', 'cancers', 'especially', 'large', 'cell', 'type', 'among', 'caucasians', 'particularly', 'among', 'africanamericans', 'therefore', 'propose', 'ccbl', 'efficacious', 'target', 'lung', 'cancers', 'africanamericans', 'needs', 'substantiated', 'important', 'prognosis', 'africanamericans', 'lung', 'cancer', 'especially', 'men', 'much', 'poorer', 'compared', 'caucasian', 'counterparts', '41', 'conclusion', 'results', 'presented', 'study', 'demonstrate', 'ccbl', 'frequently', 'mutated', 'even', 'lost', 'lung', 'cancers', 'results', 'support', 'role', 'ccbl', 'mutants', 'independent', 'ubiquitination', 'activity', 'given', 'relatively', 'high', 'mutation', 'rates', 'ccbl', 'well', 'rtks', 'met', 'egfr', 'likely', 'combined', 'effect', 'could', 'synergistic', 'promoting', 'tumorigenesis'], tags=['Text_1'])"
      ]
     },
     "execution_count": 22,
     "metadata": {},
     "output_type": "execute_result"
    }
   ],
   "source": [
    "sentences = constructLabeledSentences(alltext)\n",
    "alltext.head()\n",
    "sentences[1]"
   ]
  },
  {
   "cell_type": "code",
   "execution_count": null,
   "metadata": {},
   "outputs": [],
   "source": [
    "from gensim.models import Doc2Vec\n",
    "\n",
    "Text_INPUT_DIM=300\n",
    "\n",
    "\n",
    "text_model=None\n",
    "filename='docEmbeddings_5_clean.d2v'\n",
    "if os.path.isfile(filename):\n",
    "    text_model = Doc2Vec.load(filename)\n",
    "else:\n",
    "    text_model = Doc2Vec(min_count=1, window=5, vector_size=Text_INPUT_DIM, sample=1e-4, negative=5, workers=4, epochs=5,seed=1)\n",
    "    text_model.build_vocab(sentences)\n",
    "    text_model.train(sentences, total_examples=text_model.corpus_count, epochs=text_model.epoch)\n",
    "    text_model.save(filename)\n",
    "    \n",
    "    #vector-size is the dimension of the vector space ; so 300 is that vector \n",
    "    #window is the maximum distance  between the current and predicted word\n",
    "    # sample The threshold for configuring which higher-frequency words are randomly downsampled, useful range is "
   ]
  },
  {
   "cell_type": "code",
   "execution_count": null,
   "metadata": {
    "scrolled": true
   },
   "outputs": [],
   "source": [
    "text_train_arrays = np.zeros((train_size, Text_INPUT_DIM))\n",
    "text_test_arrays = np.zeros((test_size, Text_INPUT_DIM))\n",
    "\n",
    "#str(i) is referring to the ID that we previously got\n",
    "for i in range(train_size):\n",
    "    text_train_arrays[i] = text_model.docvecs['Text_'+str(i)]\n",
    "\n",
    "j=0\n",
    "for i in range(train_size,train_size+test_size):\n",
    "    text_test_arrays[j] = text_model.docvecs['Text_'+str(i)]\n",
    "    j=j+1\n",
    "\n",
    "print (len(text_train_arrays))\n",
    "print (len(text_train_arrays[0]))\n",
    "print(len(text_test_arrays))\n",
    "# There are 3321 training text IDs, the vectorization of the training text\n",
    "# There are 300 vectors for each ID\n",
    "\n",
    "print(text_train_arrays[0])\n",
    "print(text_test_arrays[1])\n",
    "\n"
   ]
  },
  {
   "cell_type": "code",
   "execution_count": null,
   "metadata": {},
   "outputs": [],
   "source": [
    "from sklearn.decomposition import TruncatedSVD\n",
    "Gene_INPUT_DIM=25\n",
    "\n",
    "svd = TruncatedSVD(n_components=25, n_iter=Gene_INPUT_DIM, random_state=12)\n",
    "#n_components is the number of dimensions\n",
    "one_hot_gene = pd.get_dummies(all_data['Gene'])\n",
    "#one hot encoding representation of categorical into binary variables\n",
    "# changes integer value into binary \n",
    "truncated_one_hot_gene = svd.fit_transform(one_hot_gene.values)\n",
    "\n",
    "one_hot_variation = pd.get_dummies(all_data['Variation'])\n",
    "truncated_one_hot_variation = svd.fit_transform(one_hot_variation.values)\n",
    "#Dimensionality reduction using truncated SVD (aka LSA).\n",
    "\n",
    "#This transformer performs linear dimensionality reduction by means of truncated \n",
    "#singular value decomposition (SVD). Contrary to PCA, this estimator does not center the\n",
    "#data before computing the singular value decomposition. This means it can work with \n",
    "#scipy.sparse matrices efficiently.\n",
    "\n",
    "#In particular, truncated SVD works on term count/tf-idf matrices as returned by the \n",
    "#vectorizers in sklearn.feature_extraction.text. In that context, it is known as latent \n",
    "#semantic analysis (LSA).\n",
    "\n",
    "#This estimator supports two algorithms: a fast randomized SVD solver, and a “naive” \n",
    "#algorithm that uses ARPACK as an eigensolver on (X * X.T) or (X.T * X), whichever \n",
    "#is more efficient."
   ]
  },
  {
   "cell_type": "code",
   "execution_count": null,
   "metadata": {},
   "outputs": [],
   "source": [
    "from keras.utils import np_utils\n",
    "from sklearn.preprocessing import LabelEncoder\n",
    "\n",
    "label_encoder = LabelEncoder()\n",
    "#train_y is the classes in binary form for the training variants\n",
    "label_encoder.fit(train_y)\n",
    "encoded_y = np_utils.to_categorical((label_encoder.transform(train_y)))\n",
    "\n",
    "print(encoded_y[0])"
   ]
  },
  {
   "cell_type": "code",
   "execution_count": null,
   "metadata": {},
   "outputs": [],
   "source": [
    "train_set=np.hstack((truncated_one_hot_gene[:train_size],truncated_one_hot_variation[:train_size],text_train_arrays))\n",
    "test_set=np.hstack((truncated_one_hot_gene[train_size:],truncated_one_hot_variation[train_size:],text_test_arrays))\n",
    "print (len(train_set))\n",
    "print (len(test_set))\n",
    "print (len(train_set[0]))\n",
    "print (len(test_set[0]))\n",
    "print(train_set[0][:50])\n",
    "#first 25 represents gene, second 25 represents variation, last 300 represents the words\n",
    "#hstack concatenates the arrays together\n",
    "\n"
   ]
  },
  {
   "cell_type": "markdown",
   "metadata": {},
   "source": [
    "<h1>Definining the Keras model</h1>\n"
   ]
  },
  {
   "cell_type": "code",
   "execution_count": null,
   "metadata": {},
   "outputs": [],
   "source": [
    "from keras.models import Sequential\n",
    "from keras.layers import Dense, Dropout, LSTM, Embedding, Input, RepeatVector\n",
    "from keras.optimizers import SGD\n",
    "#sgd gradient descent \n",
    "\n",
    "def baseline_model():\n",
    "    model = Sequential()\n",
    "    model.add(Dense(256, input_dim=Text_INPUT_DIM+Gene_INPUT_DIM*2, init='normal', activation='relu'))\n",
    "    model.add(Dropout(0.3))\n",
    "    model.add(Dense(256, init='normal', activation='relu'))\n",
    "    model.add(Dropout(0.5))\n",
    "    model.add(Dense(80, init='normal', activation='relu'))\n",
    "    model.add(Dense(9, init='normal', activation=\"softmax\"))\n",
    "    \n",
    "    sgd = SGD(lr=0.01, decay=1e-6, momentum=0.9, nesterov=True)  \n",
    "    model.compile(loss='categorical_crossentropy', optimizer=sgd, metrics=['accuracy'])\n",
    "    return model"
   ]
  },
  {
   "cell_type": "code",
   "execution_count": null,
   "metadata": {},
   "outputs": [],
   "source": [
    "model = baseline_model()\n",
    "model.summary()"
   ]
  },
  {
   "cell_type": "code",
   "execution_count": null,
   "metadata": {},
   "outputs": [],
   "source": [
    "estimator=model.fit(train_set, encoded_y, validation_split=0.2, epochs=10, batch_size=64)\n",
    "#20% for validation data for validation split \n"
   ]
  },
  {
   "cell_type": "code",
   "execution_count": null,
   "metadata": {},
   "outputs": [],
   "source": [
    "print(\"Training accuracy: %.2f%% / Validation accuracy: %.2f%%\" % (100*estimator.history['acc'][-1], 100*estimator.history['val_acc'][-1]))"
   ]
  },
  {
   "cell_type": "code",
   "execution_count": null,
   "metadata": {},
   "outputs": [],
   "source": [
    "import matplotlib.pyplot as plt\n",
    "\n",
    "# summarize history for accuracy\n",
    "plt.plot(estimator.history['acc'])\n",
    "plt.plot(estimator.history['val_acc'])\n",
    "plt.title('model accuracy')\n",
    "plt.ylabel('accuracy')\n",
    "plt.xlabel('epoch')\n",
    "plt.legend(['train', 'valid'], loc='upper left')\n",
    "plt.show()\n",
    "\n",
    "# summarize history for loss\n",
    "plt.plot(estimator.history['loss'])\n",
    "plt.plot(estimator.history['val_loss'])\n",
    "plt.title('model loss')\n",
    "plt.ylabel('loss')\n",
    "plt.xlabel('epoch')\n",
    "plt.legend(['train', 'valid'], loc='upper left')\n",
    "plt.show()"
   ]
  },
  {
   "cell_type": "code",
   "execution_count": null,
   "metadata": {},
   "outputs": [],
   "source": [
    "y_pred = model.predict_proba(test_set)\n"
   ]
  },
  {
   "cell_type": "code",
   "execution_count": null,
   "metadata": {},
   "outputs": [],
   "source": [
    "submission = pd.DataFrame(y_pred)\n",
    "submission['id'] = test_index\n",
    "submission.columns = ['class1', 'class2', 'class3', 'class4', 'class5', 'class6', 'class7', 'class8', 'class9', 'id']\n",
    "submission.to_csv(\"submission_all.csv\",index=False)\n",
    "submission.head()"
   ]
  },
  {
   "cell_type": "code",
   "execution_count": null,
   "metadata": {},
   "outputs": [],
   "source": [
    "from keras import backend as K\n",
    "import seaborn as sns\n",
    "\n",
    "layer_of_interest=0\n",
    "intermediate_tensor_function = K.function([model.layers[0].input],[model.layers[layer_of_interest].output])\n",
    "intermediate_tensor = intermediate_tensor_function([train_set[0,:].reshape(1,-1)])[0]"
   ]
  },
  {
   "cell_type": "code",
   "execution_count": null,
   "metadata": {},
   "outputs": [],
   "source": [
    "import matplotlib\n",
    "colors = list(matplotlib.colors.cnames)\n",
    "\n",
    "intermediates = []\n",
    "color_intermediates = []\n",
    "for i in range(len(train_set)):\n",
    "    output_class = np.argmax(encoded_y[i,:])\n",
    "    intermediate_tensor = intermediate_tensor_function([train_set[i,:].reshape(1,-1)])[0]\n",
    "    intermediates.append(intermediate_tensor[0])\n",
    "    color_intermediates.append(colors[output_class])"
   ]
  },
  {
   "cell_type": "code",
   "execution_count": null,
   "metadata": {},
   "outputs": [],
   "source": [
    "from sklearn.manifold import TSNE\n",
    "tsne = TSNE(n_components=2, random_state=0)\n",
    "intermediates_tsne = tsne.fit_transform(intermediates)\n",
    "plt.figure(figsize=(12, 12))\n",
    "plt.scatter(x = intermediates_tsne[:,0], y=intermediates_tsne[:,1], color=color_intermediates)\n",
    "plt.show()"
   ]
  },
  {
   "cell_type": "code",
   "execution_count": null,
   "metadata": {},
   "outputs": [],
   "source": []
  }
 ],
 "metadata": {
  "kernelspec": {
   "display_name": "Python 3",
   "language": "python",
   "name": "python3"
  },
  "language_info": {
   "codemirror_mode": {
    "name": "ipython",
    "version": 3
   },
   "file_extension": ".py",
   "mimetype": "text/x-python",
   "name": "python",
   "nbconvert_exporter": "python",
   "pygments_lexer": "ipython3",
   "version": "3.6.4"
  }
 },
 "nbformat": 4,
 "nbformat_minor": 2
}
